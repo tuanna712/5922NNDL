{
  "nbformat": 4,
  "nbformat_minor": 0,
  "metadata": {
    "colab": {
      "provenance": [],
      "toc_visible": true
    },
    "kernelspec": {
      "name": "python3",
      "display_name": "Python 3"
    },
    "language_info": {
      "name": "python"
    }
  },
  "cells": [
    {
      "cell_type": "markdown",
      "source": [
        "# Coding Tutorial 7 - Recurrent Neural Networks\n",
        "\n",
        "```\n",
        "Course: CSCI 5922 Spring 2025, University of Colorado Boulder\n",
        "TA: Everley Tseng\n",
        "Email: Yu-Yun.Tseng@colorado.edu\n",
        "* AI assistant is used in making this tutorial\n",
        "```"
      ],
      "metadata": {
        "id": "I6PNYzWjmL_S"
      }
    },
    {
      "cell_type": "markdown",
      "source": [
        "## Overview\n",
        "\n",
        "Sections:\n",
        "- Recurrent layers: RNN, LSTM, and GRU\n",
        "- Character prediction\n",
        "- Tanh vs. ReLU in RNN\n",
        "\n",
        "\n",
        "Objectives:\n",
        "- Learn how to code recurrent layers\n",
        "- Learn how to train a simple character prediction model\n",
        "- Compare tanh and ReLU for activation in RNN"
      ],
      "metadata": {
        "id": "Li5McA7BmeZM"
      }
    },
    {
      "cell_type": "markdown",
      "source": [
        "## Recurrent Neural Networks"
      ],
      "metadata": {
        "id": "zIBPNtdFm0Te"
      }
    },
    {
      "cell_type": "markdown",
      "source": [
        "For model summary, we will use the package `torchinfo` instead of `torchsummary`. As `torchsummary` cannot summarize complex data structures, you might run into errors when using some recurrent layers."
      ],
      "metadata": {
        "id": "5R7dLZWheE1s"
      }
    },
    {
      "cell_type": "code",
      "source": [
        "!pip install torchinfo"
      ],
      "metadata": {
        "colab": {
          "base_uri": "https://localhost:8080/"
        },
        "id": "B_iI_1DfddCj",
        "outputId": "2de237ae-dc19-4ef1-c427-a2f851d34020"
      },
      "execution_count": null,
      "outputs": [
        {
          "output_type": "stream",
          "name": "stdout",
          "text": [
            "Requirement already satisfied: torchinfo in /usr/local/lib/python3.11/dist-packages (1.8.0)\n"
          ]
        }
      ]
    },
    {
      "cell_type": "code",
      "source": [
        "import torch\n",
        "import torch.nn as nn\n",
        "import torch.optim as optim\n",
        "from torchinfo import summary\n",
        "\n",
        "import numpy as np\n",
        "import matplotlib.pyplot as plt"
      ],
      "metadata": {
        "id": "sHFw9UomzEo1"
      },
      "execution_count": null,
      "outputs": []
    },
    {
      "cell_type": "markdown",
      "source": [
        "Similar to having `nn.Linear` and `nn.Conv2d`, PyTorch also has  modules for recurrent layers such as `nn.RNN`, `nn.LSTM`, and `nn.GRU`. In this tutorial, we will build three simple recurrent models using RNN, LSTM, and GRU layers, respectively, for character prediction.\n",
        "\n",
        "What is character prediction? Given a string \"How are yo\", predict the next character: \"u\". The input string is a sequential data, where there is a time-step correlation in:\n",
        "```\n",
        "H -> o -> w -> space -> a -> r -> e -> space -> y -> o -> u\n",
        "```\n",
        "Therefore, we will be passing the input **character by character** into the model to predict the most likely upcoming character.\n"
      ],
      "metadata": {
        "id": "vQdaZ4ilVoxI"
      }
    },
    {
      "cell_type": "markdown",
      "source": [
        "### RNN"
      ],
      "metadata": {
        "id": "Hm62FZ7ybwGZ"
      }
    },
    {
      "cell_type": "markdown",
      "source": [
        "The major difference in recurrent layers from the layers we have used is that the hidden states are recurred over time steps. This makes the shapes of inputs, outputs, and hidden states. Let's read the documentation for the RNN layer first: [`nn.RNN`](https://pytorch.org/docs/stable/generated/torch.nn.RNN.html)\n",
        "\n",
        "From the `forward` implementation, we see that the layer takes in **2 elements** and returns **2 elements**. This aligns with what we know about an RNN unit where there is a hidden state $h_t$ that passes over time steps. Following this format, assmue we have the forward pass of an RNN layer as:\n",
        "```\n",
        "out, h2 = rnn_layer(in, h1)\n",
        "```\n",
        "The shape of these elements will be:\n",
        "- Input `in`: `(batch_size, seq_length, feature_size)`\n",
        "- Hidden states `h1` and `h2`: `(1, batch_size, hidden_size)`\n",
        "- Output `out`: `(batch_size, seq_length, hidden_size)`\n",
        "\n",
        "Both `in` and `out` accumulate over time steps (i.e., with the `seq_length` dimension), and the hidden state changes over time. Note that you are able to assign the dimension order for `batch_size` and `seq_length` by setting `batch_first=True` or `batch_first=False` in the RNN layer.\n",
        "\n"
      ],
      "metadata": {
        "id": "LxpzG6o6b0Ie"
      }
    },
    {
      "cell_type": "markdown",
      "source": [
        "Below, we practice building an RNN classification model with one recurrent layer followed by a fully-connected layer.  Note that in the **first time step**, there is no prior hidden state so we will initialize a hidden state for it (which is usually zeros). For the RNN layer output, we take the intermediate feature from the **final time step** istead of the entire sequence as we are only predicting the one upcoming character."
      ],
      "metadata": {
        "id": "146vcHxEm0kR"
      }
    },
    {
      "cell_type": "code",
      "source": [
        "class SimpleRNN(nn.Module):\n",
        "    def __init__(self, input_size, hidden_size, output_size):\n",
        "        super(SimpleRNN, self).__init__()\n",
        "\n",
        "        self.hidden_size = hidden_size\n",
        "        self.rnn = nn.RNN(input_size, hidden_size, batch_first=True)\n",
        "        self.fc = nn.Linear(hidden_size, output_size)\n",
        "        self.softmax = nn.LogSoftmax(dim=1)\n",
        "\n",
        "    def forward(self, x, hidden=None):\n",
        "        # Pass in zeros when there is no prior hidden state\n",
        "        if hidden is None:\n",
        "            hidden = torch.zeros(1, x.size(0), self.hidden_size)\n",
        "\n",
        "        # RNN layer\n",
        "        rnn_out, hidden = self.rnn(x, hidden)\n",
        "\n",
        "        # Fully-connected layer\n",
        "        output = self.fc(rnn_out[:, -1, :]) # Take the last time step's output\n",
        "\n",
        "        # Apply softmax for classification\n",
        "        output = self.softmax(output)\n",
        "        return output, hidden"
      ],
      "metadata": {
        "id": "By8KF6qlmzEC"
      },
      "execution_count": null,
      "outputs": []
    },
    {
      "cell_type": "code",
      "source": [
        "model = SimpleRNN(input_size=58, hidden_size=256, output_size=58)\n",
        "summary(model, input_size=(1, 40, 58))"
      ],
      "metadata": {
        "colab": {
          "base_uri": "https://localhost:8080/"
        },
        "id": "kymlAVOGcdjH",
        "outputId": "94a29451-7093-4d8b-a21f-51ae212c54d2"
      },
      "execution_count": null,
      "outputs": [
        {
          "output_type": "execute_result",
          "data": {
            "text/plain": [
              "==========================================================================================\n",
              "Layer (type:depth-idx)                   Output Shape              Param #\n",
              "==========================================================================================\n",
              "SimpleRNN                                [1, 58]                   --\n",
              "├─RNN: 1-1                               [1, 40, 256]              80,896\n",
              "├─Linear: 1-2                            [1, 58]                   14,906\n",
              "├─LogSoftmax: 1-3                        [1, 58]                   --\n",
              "==========================================================================================\n",
              "Total params: 95,802\n",
              "Trainable params: 95,802\n",
              "Non-trainable params: 0\n",
              "Total mult-adds (Units.MEGABYTES): 3.25\n",
              "==========================================================================================\n",
              "Input size (MB): 0.01\n",
              "Forward/backward pass size (MB): 0.08\n",
              "Params size (MB): 0.38\n",
              "Estimated Total Size (MB): 0.47\n",
              "=========================================================================================="
            ]
          },
          "metadata": {},
          "execution_count": 4
        }
      ]
    },
    {
      "cell_type": "markdown",
      "source": [
        "### LSTM"
      ],
      "metadata": {
        "id": "F-UVIWlyyzux"
      }
    },
    {
      "cell_type": "markdown",
      "source": [
        "The LSTM layer in PyTorch is [`nn.LSTM`](https://pytorch.org/docs/stable/generated/torch.nn.LSTM.html). LSTM layer has two hidden states, $h_t$ and $C_t$, which is passed in the layer as a tuple:\n",
        "```\n",
        "out, (h2, C2) = rnn_layer(in, (h1, C1))\n",
        "```\n",
        "Adopt the structure of RNN model and adjust the hidden states to include both elements in LSTM"
      ],
      "metadata": {
        "id": "O9uKHW2Mi5a_"
      }
    },
    {
      "cell_type": "code",
      "source": [
        "class SimpleLSTM(nn.Module):\n",
        "    def __init__(self, input_size, hidden_size, output_size):\n",
        "        super(SimpleLSTM, self).__init__()\n",
        "        self.hidden_size = hidden_size\n",
        "        self.lstm = nn.LSTM(input_size, hidden_size, batch_first=True)\n",
        "        self.fc = nn.Linear(hidden_size, output_size)\n",
        "        self.softmax = nn.LogSoftmax(dim=1)\n",
        "\n",
        "    def forward(self, x, hidden=None):\n",
        "        if hidden is None:\n",
        "            hidden = torch.zeros(1, x.size(0), self.hidden_size)  # Hidden state\n",
        "            cell = torch.zeros(1, x.size(0), self.hidden_size)  # Cell state\n",
        "            hidden = (hidden, cell)  # LSTM requires a tuple of (hidden_state, cell_state)\n",
        "\n",
        "        lstm_out, hidden = self.lstm(x, hidden)\n",
        "        output = self.fc(lstm_out[:, -1, :])\n",
        "        output = self.softmax(output)\n",
        "        return output, hidden"
      ],
      "metadata": {
        "id": "kBsjvUhirfjV"
      },
      "execution_count": null,
      "outputs": []
    },
    {
      "cell_type": "code",
      "source": [
        "model = SimpleLSTM(input_size=58, hidden_size=256, output_size=58)\n",
        "summary(model, input_size=(1, 40, 58))"
      ],
      "metadata": {
        "colab": {
          "base_uri": "https://localhost:8080/"
        },
        "id": "aWPeP8R6zWbJ",
        "outputId": "35fec88d-1c53-49e0-e559-68c83ebcf736"
      },
      "execution_count": null,
      "outputs": [
        {
          "output_type": "execute_result",
          "data": {
            "text/plain": [
              "==========================================================================================\n",
              "Layer (type:depth-idx)                   Output Shape              Param #\n",
              "==========================================================================================\n",
              "SimpleLSTM                               [1, 58]                   --\n",
              "├─LSTM: 1-1                              [1, 40, 256]              323,584\n",
              "├─Linear: 1-2                            [1, 58]                   14,906\n",
              "├─LogSoftmax: 1-3                        [1, 58]                   --\n",
              "==========================================================================================\n",
              "Total params: 338,490\n",
              "Trainable params: 338,490\n",
              "Non-trainable params: 0\n",
              "Total mult-adds (Units.MEGABYTES): 12.96\n",
              "==========================================================================================\n",
              "Input size (MB): 0.01\n",
              "Forward/backward pass size (MB): 0.08\n",
              "Params size (MB): 1.35\n",
              "Estimated Total Size (MB): 1.45\n",
              "=========================================================================================="
            ]
          },
          "metadata": {},
          "execution_count": 6
        }
      ]
    },
    {
      "cell_type": "markdown",
      "source": [
        "### GRU"
      ],
      "metadata": {
        "id": "oyyLzpSDiusb"
      }
    },
    {
      "cell_type": "code",
      "source": [
        "import torch\n",
        "import torch.nn as nn\n",
        "\n",
        "class SimpleGRU(nn.Module):\n",
        "    def __init__(self, input_size, hidden_size, output_size):\n",
        "        super(SimpleGRU, self).__init__()\n",
        "        self.hidden_size = hidden_size\n",
        "        self.gru = nn.GRU(input_size, hidden_size, batch_first=True)\n",
        "        self.fc = nn.Linear(hidden_size, output_size)\n",
        "        self.softmax = nn.LogSoftmax(dim=1)\n",
        "\n",
        "    def forward(self, x, hidden=None):\n",
        "        if hidden is None:\n",
        "            hidden = torch.zeros(1, x.size(0), self.hidden_size)  # GRU only has hidden state\n",
        "\n",
        "        gru_out, hidden = self.gru(x, hidden)\n",
        "        output = self.fc(gru_out[:, -1, :])  # Take the last time step's output\n",
        "        output = self.softmax(output)\n",
        "        return output, hidden"
      ],
      "metadata": {
        "id": "m9Crhc9Oiv7G"
      },
      "execution_count": null,
      "outputs": []
    },
    {
      "cell_type": "code",
      "source": [
        "model = SimpleGRU(input_size=58, hidden_size=256, output_size=58)\n",
        "summary(model, input_size=(1, 40, 58))"
      ],
      "metadata": {
        "colab": {
          "base_uri": "https://localhost:8080/"
        },
        "id": "0xCqcYIik6BZ",
        "outputId": "b9d24325-3b1a-49bb-eff2-992645f55671"
      },
      "execution_count": null,
      "outputs": [
        {
          "output_type": "execute_result",
          "data": {
            "text/plain": [
              "==========================================================================================\n",
              "Layer (type:depth-idx)                   Output Shape              Param #\n",
              "==========================================================================================\n",
              "SimpleGRU                                [1, 58]                   --\n",
              "├─GRU: 1-1                               [1, 40, 256]              242,688\n",
              "├─Linear: 1-2                            [1, 58]                   14,906\n",
              "├─LogSoftmax: 1-3                        [1, 58]                   --\n",
              "==========================================================================================\n",
              "Total params: 257,594\n",
              "Trainable params: 257,594\n",
              "Non-trainable params: 0\n",
              "Total mult-adds (Units.MEGABYTES): 9.72\n",
              "==========================================================================================\n",
              "Input size (MB): 0.01\n",
              "Forward/backward pass size (MB): 0.08\n",
              "Params size (MB): 1.03\n",
              "Estimated Total Size (MB): 1.12\n",
              "=========================================================================================="
            ]
          },
          "metadata": {},
          "execution_count": 8
        }
      ]
    },
    {
      "cell_type": "markdown",
      "source": [
        "## Character Prediction"
      ],
      "metadata": {
        "id": "0aicdYlWrR4J"
      }
    },
    {
      "cell_type": "markdown",
      "source": [
        "Load data from the given [url](https://s3.amazonaws.com/text-datasets/nietzsche.txt). Use the string `full_text` to store the entire corpus. There are 600901 characters in total."
      ],
      "metadata": {
        "id": "Dlq5y4j-r2Ht"
      }
    },
    {
      "cell_type": "code",
      "source": [
        "import requests\n",
        "\n",
        "text_url = 'https://s3.amazonaws.com/text-datasets/nietzsche.txt'\n",
        "response = requests.get(text_url)\n",
        "response.raise_for_status()\n",
        "lines = response.text.splitlines()\n",
        "full_text = ' '.join(lines)\n",
        "print('Total # of characters in corpus:', len(full_text))\n",
        "print('Print first 500 characters:', full_text[:500])"
      ],
      "metadata": {
        "colab": {
          "base_uri": "https://localhost:8080/"
        },
        "id": "0jAyKUiMqTR9",
        "outputId": "91932607-6fbf-46c2-c9c5-fcebbdc423a1"
      },
      "execution_count": null,
      "outputs": [
        {
          "output_type": "stream",
          "name": "stdout",
          "text": [
            "Total # of characters in corpus: 600901\n",
            "Print first 500 characters: PREFACE   SUPPOSING that Truth is a woman--what then? Is there not ground for suspecting that all philosophers, in so far as they have been dogmatists, have failed to understand women--that the terrible seriousness and clumsy importunity with which they have usually paid their addresses to Truth, have been unskilled and unseemly methods for winning a woman? Certainly she has never allowed herself to be won; and at present every kind of dogma stands with sad and discouraged mien--IF, indeed, it s\n"
          ]
        }
      ]
    },
    {
      "cell_type": "markdown",
      "source": [
        "### Data Processing"
      ],
      "metadata": {
        "id": "_EwHPvtbsUY8"
      }
    },
    {
      "cell_type": "markdown",
      "source": [
        "We need to prepare a dataset for training a **character prediction** model. Let's start with breaking down this task: Given $n$ characters, predict the ${n+1}^{th}$ character.\n",
        "\n",
        "Assume that we have a corpus that has 21 characters in total, **\"Deep Learning is fun.\"** We will use this corpus as an example for the following steps:\n",
        "\n",
        "- **Step 1:** Convert all characters to lowercase\n",
        "```\n",
        "\"Deep Learning is fun.\" -> \"deep learning is fun.\"\n",
        "```\n",
        "- **Step 2:** Calculate the number of unique characters in the corpus (i.e., 14)\n",
        "```\n",
        "\"d\", \"e\", \"p\", \" \", \"l\", \"a\", \"r\", \"n\", \"i\", \"g\", \"s\", \"f\", \"u\", \".\"\n",
        "```\n",
        "- **Step 3:** Use one-hot encoding to encode each character. For instance, our dictionary size is 14, so the length of each character encoding is 14.\n",
        "```\n",
        "\"d\": [1 0 0 0 0 0 0 0 0 0 0 0 0 0]\n",
        "\"e\": [0 1 0 0 0 0 0 0 0 0 0 0 0 0]\n",
        "\"p\": [0 0 1 0 0 0 0 0 0 0 0 0 0 0]\n",
        "\" \": [0 0 0 1 0 0 0 0 0 0 0 0 0 0]\n",
        "\"l\": [0 0 0 0 1 0 0 0 0 0 0 0 0 0]\n",
        "...\n",
        "\".\": [0 0 0 0 0 0 0 0 0 0 0 0 0 1]\n",
        "```\n",
        "- **Step 4:** Create training data (`x` and `y`) using a sliding window. Determine a window size $n$, e.g., $n=5$. Determine a window step $s$, e.g., $s=1$. The smaller the step is, the more samples we have.\n",
        "```\n",
        "Corpus: \"deep learning is fun.\"\n",
        "sample 1: x=[deep ], y=[l]\n",
        "sample 2: x=[eep l], y=[e]\n",
        "sample 3: x=[ep le], y=[a]\n",
        "sample 4: x=[p lea], y=[r]\n",
        "sample 5: x=[ lear], y=[n]\n",
        "sample 6: x=[learn], y=[i]\n",
        "...\n",
        "```\n",
        "\n",
        "- **Step 5:** Using the one-hot encoding dictionary created in **step 3**, convert all training data to the encoded style. Take sample 1 as an example:\n",
        "```\n",
        "sample 1 x:\n",
        "\"deep \" is converted to a 5 x 14 embedding\n",
        "[[1 0 0 0 0 0 0 0 0 0 0 0 0 0],\n",
        " [0 1 0 0 0 0 0 0 0 0 0 0 0 0],\n",
        " [0 1 0 0 0 0 0 0 0 0 0 0 0 0],\n",
        " [0 0 1 0 0 0 0 0 0 0 0 0 0 0],\n",
        " [0 0 0 1 0 0 0 0 0 0 0 0 0 0]]\n",
        "sample 1 y:\n",
        "\"l\" is converted to a 1 x 14 embedding\n",
        "[0 0 0 0 1 0 0 0 0 0 0 0 0 0]\n",
        "```\n",
        "So, each training sample will have `x` with the shape `(seq_length, feature_size)` and `y` with the shape `(feature_size)`"
      ],
      "metadata": {
        "id": "FNdj_v1dsZjE"
      }
    },
    {
      "cell_type": "markdown",
      "source": [
        "Now, let's start processing our data!"
      ],
      "metadata": {
        "id": "-6C1FEJhxGOm"
      }
    },
    {
      "cell_type": "code",
      "source": [
        "# Convert to lowercases\n",
        "full_text = full_text.lower()\n",
        "\n",
        "# Create a character dictionary\n",
        "char_dict = sorted(set(full_text))\n",
        "\n",
        "print('{} characters'.format(len(char_dict)))"
      ],
      "metadata": {
        "colab": {
          "base_uri": "https://localhost:8080/"
        },
        "id": "ghiV1TR4Az-Y",
        "outputId": "aef6c8ff-d13b-4183-9f18-5d1422dc5451"
      },
      "execution_count": null,
      "outputs": [
        {
          "output_type": "stream",
          "name": "stdout",
          "text": [
            "58 characters\n"
          ]
        }
      ]
    },
    {
      "cell_type": "markdown",
      "source": [
        "There are $58$ characters in this corpus, so our one-hot encoding features will be the size of $58$."
      ],
      "metadata": {
        "id": "HhWzSvmcxd27"
      }
    },
    {
      "cell_type": "code",
      "source": [
        "# Create a dictionary for one-hot encoding\n",
        "# key: character, value: encoding\n",
        "encoder = {}\n",
        "\n",
        "for ind, char in enumerate(char_dict):\n",
        "    tensor = torch.zeros(len(char_dict)) # create an all-zero array\n",
        "    tensor[ind] = 1                      # flag the index of the charactre as 1\n",
        "    encoder[char] = tensor               # save to the encoder dict\n",
        "\n",
        "char_ind_map = {ind:char for ind, (char, _) in enumerate(encoder.items())}"
      ],
      "metadata": {
        "id": "TIVrGq0MAqox"
      },
      "execution_count": null,
      "outputs": []
    },
    {
      "cell_type": "markdown",
      "source": [
        "Set up a proper window size and a proper step size to generate samples for training."
      ],
      "metadata": {
        "id": "t39jBSV2DqaO"
      }
    },
    {
      "cell_type": "code",
      "source": [
        "window_size = 40\n",
        "window_step = 10\n",
        "\n",
        "x_train = []\n",
        "y_train = []\n",
        "\n",
        "for i in range(0, len(full_text)-window_size, window_step):\n",
        "    # Sample x and y from corpus\n",
        "    x = full_text[i:i+window_size]\n",
        "    y = full_text[i+window_size]\n",
        "\n",
        "    # Convert characters to encoding\n",
        "    x_encoded = torch.stack([encoder[c] for c in x])\n",
        "    y_encoded = encoder[y]\n",
        "    x_train.append(x_encoded)\n",
        "    y_train.append(y_encoded)\n",
        "\n",
        "x_train = torch.stack(x_train)\n",
        "y_train = torch.stack(y_train)\n",
        "\n",
        "print('Input shape: {}. Output shape: {}'.format(x_train.shape, y_train.shape))"
      ],
      "metadata": {
        "colab": {
          "base_uri": "https://localhost:8080/"
        },
        "id": "UtZgopVLDWNK",
        "outputId": "be26244f-e5b4-4b13-ed50-65ea9ed6a6f1"
      },
      "execution_count": null,
      "outputs": [
        {
          "output_type": "stream",
          "name": "stdout",
          "text": [
            "Input shape: torch.Size([60087, 40, 58]). Output shape: torch.Size([60087, 58])\n"
          ]
        }
      ]
    },
    {
      "cell_type": "markdown",
      "source": [
        "Now that the samples are ready, use `DataLoader` to wrap the dataset."
      ],
      "metadata": {
        "id": "tzFBrGLgybr1"
      }
    },
    {
      "cell_type": "code",
      "source": [
        "from torch.utils.data import TensorDataset, DataLoader\n",
        "\n",
        "batch_size = 256\n",
        "dataset = TensorDataset(x_train, y_train)\n",
        "train_loader = DataLoader(dataset, batch_size=batch_size, shuffle=True)"
      ],
      "metadata": {
        "id": "cJuA9W-6PRGV"
      },
      "execution_count": null,
      "outputs": []
    },
    {
      "cell_type": "markdown",
      "source": [
        "### Model Training"
      ],
      "metadata": {
        "id": "SaKW7iA51957"
      }
    },
    {
      "cell_type": "markdown",
      "source": [
        "We'll be training the RNN, LSTM, and GRU models and compare their results. Record the training loss and training time for comparison."
      ],
      "metadata": {
        "id": "2JRHCsGF2Od_"
      }
    },
    {
      "cell_type": "code",
      "source": [
        "import time\n",
        "\n",
        "def train_model(model, lr=0.001, n_epochs=10):\n",
        "\n",
        "    criterion = nn.NLLLoss()  # Negative Log-Likelihood Loss (used with LogSoftmax)\n",
        "    optimizer = optim.Adam(model.parameters(), lr=lr)\n",
        "\n",
        "    losses = []\n",
        "    epoch_times = []\n",
        "\n",
        "    for epoch in range(n_epochs):\n",
        "        total_loss = 0\n",
        "\n",
        "        start_time = time.time()  # Record start time\n",
        "        for batch_x, batch_y in train_loader:\n",
        "            batch_size = batch_x.size(0)\n",
        "            optimizer.zero_grad()\n",
        "            output, hidden = model(batch_x)\n",
        "            loss = criterion(output, batch_y.argmax(dim=1))  # Convert one-hot y to indices\n",
        "            loss.backward()\n",
        "            optimizer.step()\n",
        "            total_loss += loss.item()\n",
        "        avg_loss = total_loss / len(train_loader)\n",
        "        end_time = time.time()  # Record end time\n",
        "\n",
        "        print(f\"Epoch {epoch+1}/{n_epochs}, Loss: {avg_loss:.4f}\")\n",
        "        losses.append(avg_loss)\n",
        "        epoch_times.append(end_time-start_time)\n",
        "    avg_time = np.mean(epoch_times)\n",
        "    print(\"Training complete! Average computation time is {:.2f} per epoch\".format(avg_time))\n",
        "    return model"
      ],
      "metadata": {
        "id": "_sNs6T21PtIa"
      },
      "execution_count": null,
      "outputs": []
    },
    {
      "cell_type": "code",
      "source": [
        "input_size = 58\n",
        "hidden_size = 256\n",
        "output_size = 58"
      ],
      "metadata": {
        "id": "ll1iM_DgvAR0"
      },
      "execution_count": null,
      "outputs": []
    },
    {
      "cell_type": "markdown",
      "source": [
        "The recurrent model training takes a long time, so we will only demonstrate the RNN model results."
      ],
      "metadata": {
        "id": "bBqf41BxzRix"
      }
    },
    {
      "cell_type": "code",
      "source": [
        "rnn_model = SimpleRNN(input_size=input_size, hidden_size=hidden_size, output_size=output_size)\n",
        "rnn_model = train_model(rnn_model, n_epochs=30)"
      ],
      "metadata": {
        "colab": {
          "base_uri": "https://localhost:8080/"
        },
        "id": "iEgb4Ywz0lq0",
        "outputId": "a11c1b7e-271d-46ad-d5e3-e30b18f28fec"
      },
      "execution_count": null,
      "outputs": [
        {
          "output_type": "stream",
          "name": "stdout",
          "text": [
            "Epoch 1/30, Loss: 2.8316\n",
            "Epoch 2/30, Loss: 2.3865\n",
            "Epoch 3/30, Loss: 2.2403\n",
            "Epoch 4/30, Loss: 2.1532\n",
            "Epoch 5/30, Loss: 2.0826\n",
            "Epoch 6/30, Loss: 2.0243\n",
            "Epoch 7/30, Loss: 1.9710\n",
            "Epoch 8/30, Loss: 1.9199\n",
            "Epoch 9/30, Loss: 1.8761\n",
            "Epoch 10/30, Loss: 1.8317\n",
            "Epoch 11/30, Loss: 1.7902\n",
            "Epoch 12/30, Loss: 1.7512\n",
            "Epoch 13/30, Loss: 1.7129\n",
            "Epoch 14/30, Loss: 1.6790\n",
            "Epoch 15/30, Loss: 1.6451\n",
            "Epoch 16/30, Loss: 1.6147\n",
            "Epoch 17/30, Loss: 1.5810\n",
            "Epoch 18/30, Loss: 1.5469\n",
            "Epoch 19/30, Loss: 1.5183\n",
            "Epoch 20/30, Loss: 1.4888\n",
            "Epoch 21/30, Loss: 1.4618\n",
            "Epoch 22/30, Loss: 1.4322\n",
            "Epoch 23/30, Loss: 1.4035\n",
            "Epoch 24/30, Loss: 1.3778\n",
            "Epoch 25/30, Loss: 1.3507\n",
            "Epoch 26/30, Loss: 1.3262\n",
            "Epoch 27/30, Loss: 1.3011\n",
            "Epoch 28/30, Loss: 1.2772\n",
            "Epoch 29/30, Loss: 1.2547\n",
            "Epoch 30/30, Loss: 1.2292\n",
            "Training complete! Average computation time is 33.28 per epoch\n"
          ]
        }
      ]
    },
    {
      "cell_type": "markdown",
      "source": [
        "### Prediction"
      ],
      "metadata": {
        "id": "6crca_gky9Fn"
      }
    },
    {
      "cell_type": "markdown",
      "source": [
        "Using a random 40-character sample in the corpus, we can generate the next 50 characters using this trained model. As the model predicts the 41st character given the prior 40 characters, we will keep updating the input 40 characters using the predicted character."
      ],
      "metadata": {
        "id": "HFa64dV31yj4"
      }
    },
    {
      "cell_type": "code",
      "source": [
        "def generate_characters(model, hidden, input_text, input_size=40, n_char=50):\n",
        "    output_text = input_text\n",
        "    with torch.no_grad():\n",
        "        for _ in range(n_char):\n",
        "            x_encoded = torch.stack([encoder[c] for c in input_text]).unsqueeze(0) # encode input text\n",
        "            output, hidden = model(x_encoded, hidden)\n",
        "            predicted_index = output.argmax(dim=1).item()\n",
        "            output_text = output_text + char_ind_map[predicted_index] # convert the predicted index to character\n",
        "            input_text = output_text[-input_size:] # update the input text\n",
        "    return output_text"
      ],
      "metadata": {
        "id": "iEzuoCqZoyC5"
      },
      "execution_count": null,
      "outputs": []
    },
    {
      "cell_type": "code",
      "source": [
        "start_index = 103 # a random index\n",
        "input_text = full_text[start_index:start_index+input_size]\n",
        "print('* Input text:\\n', input_text)\n",
        "\n",
        "hidden = torch.zeros(1, 1, hidden_size) # create zeros for initial hidden state\n",
        "output_text = generate_characters(rnn_model, hidden, input_text)\n",
        "print('* Prediction:\\n', output_text)"
      ],
      "metadata": {
        "colab": {
          "base_uri": "https://localhost:8080/"
        },
        "id": "-0tluVfGqAGb",
        "outputId": "773b2df6-8e95-43e5-bf92-6dc8444ce83a"
      },
      "execution_count": null,
      "outputs": [
        {
          "output_type": "stream",
          "name": "stdout",
          "text": [
            "*Input text:\n",
            " sophers, in so far as they have been dogmatists, have fail\n",
            "*Prediction:\n",
            " sophers, in so far as they have been dogmatists, have failed the dest procoust reatond and stand dessive and\n"
          ]
        }
      ]
    },
    {
      "cell_type": "markdown",
      "source": [
        "You might notice that the first few generated characters make more sense, and the further into the predictions the worse it gets. This is due to the **recurrently updating input text using the predictions**. Once there is **error in the predictions**, it can cause a snowballing effect on the future predictions. This phenomenon is known as error accumulation, where incorrect outputs are fed back into the model as input, reinforcing deviations from meaningful text."
      ],
      "metadata": {
        "id": "E7D2OuYV2T5c"
      }
    },
    {
      "cell_type": "markdown",
      "source": [
        "### RNN, LSTM, and GRU Comparison"
      ],
      "metadata": {
        "id": "sS0kJRApiVg-"
      }
    },
    {
      "cell_type": "markdown",
      "source": [
        "To compare the computation time, let's run 3 epochs for the LSTM model and GRU model."
      ],
      "metadata": {
        "id": "WFtsCeUjzyJ8"
      }
    },
    {
      "cell_type": "code",
      "source": [
        "lstm_model = SimpleLSTM(input_size=input_size, hidden_size=hidden_size, output_size=output_size)\n",
        "lstm_model = train_model(lstm_model, n_epochs=3)"
      ],
      "metadata": {
        "colab": {
          "base_uri": "https://localhost:8080/"
        },
        "id": "6hL1zm72RRzE",
        "outputId": "ff7b8785-4f89-43b2-b0c8-a4ca08c9296a"
      },
      "execution_count": null,
      "outputs": [
        {
          "output_type": "stream",
          "name": "stdout",
          "text": [
            "Epoch 1/3, Loss: 2.9286\n",
            "Epoch 2/3, Loss: 2.4835\n",
            "Epoch 3/3, Loss: 2.3060\n",
            "Training complete! Average computation time is 140.63 per epoch\n"
          ]
        }
      ]
    },
    {
      "cell_type": "code",
      "source": [
        "gru_model = SimpleGRU(input_size=input_size, hidden_size=hidden_size, output_size=output_size)\n",
        "gru_model = train_model(gru_model, n_epochs=3)"
      ],
      "metadata": {
        "colab": {
          "base_uri": "https://localhost:8080/"
        },
        "id": "UXHnApe7ihyk",
        "outputId": "717c8e34-20c7-4011-9cff-27a3274f6743"
      },
      "execution_count": null,
      "outputs": [
        {
          "output_type": "stream",
          "name": "stdout",
          "text": [
            "Epoch 1/3, Loss: 2.7984\n",
            "Epoch 2/3, Loss: 2.3469\n",
            "Epoch 3/3, Loss: 2.1861\n",
            "Training complete! Average computation time is 93.39 per epoch\n"
          ]
        }
      ]
    },
    {
      "cell_type": "markdown",
      "source": [
        "From the results, we can see that the computation time is **LSTM > GRU > RNN**. To compare the prediction results, you can try running the LSTM and the GRU models for more epochs."
      ],
      "metadata": {
        "id": "-N3mgvNYz7VW"
      }
    },
    {
      "cell_type": "markdown",
      "source": [
        "## ReLU in RNN"
      ],
      "metadata": {
        "id": "gkquncn29oOK"
      }
    },
    {
      "cell_type": "markdown",
      "source": [
        "In [`nn.RNN`](https://pytorch.org/docs/stable/generated/torch.nn.RNN.html), the default activation function is `tanh`, PyTorch also provides the option to use relu. In the previous models, tanh was used as the activation function.\n",
        "\n",
        "In theory, ReLU is not an ideal choice for RNNs because it is sensitive to large inputs and does not handle negative values well. This can lead to instability, including exploding gradients or dying neurons (where neurons become inactive and output zero). To mitigate these issues, when selecting ReLU as the activation function, PyTorch recommends (and performs by default) a specific initialization method for the input-to-hidden weights:\n",
        "```\n",
        "torch.nn.init.kaiming_uniform_(rnn.weight_ih_l0, nonlinearity=\"relu\")\n",
        "```\n",
        "\n",
        "However, without this initialization method, it will be very difficult to train an RNN layer with ReLU. Below, we test the RNN layer with two a uniform distribution [-1, 1] using the default `tanh` activation and `relu` activation, respectively."
      ],
      "metadata": {
        "id": "LqrnaxUglGxx"
      }
    },
    {
      "cell_type": "code",
      "source": [
        "import torch.nn.init as init\n",
        "\n",
        "class TanhRNN(nn.Module):\n",
        "    def __init__(self, input_size, hidden_size):\n",
        "        super(TanhRNN, self).__init__()\n",
        "        self.hidden_size = hidden_size\n",
        "        self.rnn = nn.RNN(input_size, hidden_size, batch_first=True)\n",
        "\n",
        "        for name, param in self.rnn.named_parameters():\n",
        "            if 'weight' in name:\n",
        "                init.uniform_(param, -1, 1)\n",
        "\n",
        "    def forward(self, x, hidden=None):\n",
        "        if hidden is None:\n",
        "            hidden = torch.zeros(1, x.size(0), self.hidden_size)\n",
        "\n",
        "        rnn_out, hidden = self.rnn(x, hidden)\n",
        "        return rnn_out\n",
        "\n",
        "class ReLURNN(nn.Module):\n",
        "    def __init__(self, input_size, hidden_size):\n",
        "        super(ReLURNN, self).__init__()\n",
        "        self.hidden_size = hidden_size\n",
        "        self.rnn = nn.RNN(input_size, hidden_size, nonlinearity='relu', batch_first=True)\n",
        "\n",
        "        for name, param in self.rnn.named_parameters():\n",
        "            if 'weight' in name:\n",
        "                init.uniform_(param, -1, 1)\n",
        "\n",
        "    def forward(self, x, hidden=None):\n",
        "        if hidden is None:\n",
        "            hidden = torch.zeros(1, x.size(0), self.hidden_size)\n",
        "        rnn_out, hidden = self.rnn(x, hidden)\n",
        "        return rnn_out"
      ],
      "metadata": {
        "id": "UfJQBMqy9yWc"
      },
      "execution_count": null,
      "outputs": []
    },
    {
      "cell_type": "markdown",
      "source": [
        "Plot the mean values of outputs over **time steps**:"
      ],
      "metadata": {
        "id": "Mc2LqXGyoQ3O"
      }
    },
    {
      "cell_type": "code",
      "source": [
        "# Run tanh model\n",
        "tanh_rnn_model = TanhRNN(input_size=input_size, hidden_size=hidden_size)\n",
        "rnn_out = tanh_rnn_model(x_train[:1,:,:])\n",
        "tanh_out = np.mean(rnn_out.detach().numpy()[0], axis=1) # compute mean of all outputs in a time step\n",
        "\n",
        "# Run relu model\n",
        "relu_rnn_model = ReLURNN(input_size=input_size, hidden_size=hidden_size)\n",
        "rnn_out = relu_rnn_model(x_train[:1,:,:])\n",
        "relu_out = np.mean(rnn_out.detach().numpy()[0], axis=1) # compute mean of all outputs in a time step\n",
        "\n",
        "fig, axes = plt.subplots(1, 2, figsize=(10, 4))\n",
        "axes[0].set_title(\"Tanh RNN average outputs over time steps\")\n",
        "axes[0].set_xlabel('Time')\n",
        "axes[0].set_ylabel('Output value')\n",
        "axes[0].plot(tanh_out)\n",
        "axes[1].set_title(\"ReLU RNN average outputs over time steps\")\n",
        "axes[1].set_xlabel('Time')\n",
        "axes[1].set_ylabel('Output value')\n",
        "axes[1].plot(relu_out)\n",
        "plt.tight_layout()\n",
        "plt.show()"
      ],
      "metadata": {
        "colab": {
          "base_uri": "https://localhost:8080/",
          "height": 377
        },
        "id": "ip7pYXhTT0Wn",
        "outputId": "92d67075-c908-4ecb-fc1c-0ca8f23a55c6"
      },
      "execution_count": null,
      "outputs": [
        {
          "output_type": "display_data",
          "data": {
            "text/plain": [
              "<Figure size 1000x400 with 2 Axes>"
            ],
            "image/png": "[encoded data removed]"
          },
          "metadata": {}
        }
      ]
    },
    {
      "cell_type": "markdown",
      "source": [
        "The recurrent nature of RNN layers amplifies ReLU’s sensitivity over multiple time steps, potentially leading to an explosion of output and hidden state values. In contrast, tanh helps stabilize the output range, reducing the risk of uncontrolled growth and improving training stability.\n",
        "\n"
      ],
      "metadata": {
        "id": "I5Wfjzk5opx7"
      }
    },
    {
      "cell_type": "markdown",
      "source": [
        "## A Review of PyTorch Layers"
      ],
      "metadata": {
        "id": "GCDWfqEwYveU"
      }
    },
    {
      "cell_type": "markdown",
      "source": [
        "As we are coming to an end of introducing basic model layers in PyTorch, this is a good time to summarize and review all the layers:\n",
        "- Linear layers ([index](https://pytorch.org/docs/stable/nn.html#linear-layers))\n",
        "- Convolution layers ([index](https://pytorch.org/docs/stable/nn.html#convolution-layers))\n",
        "- Pooling layers ([index](https://pytorch.org/docs/stable/nn.html#pooling-layers))\n",
        "- Recurrent layers ([index](https://pytorch.org/docs/stable/nn.html#recurrent-layers))\n",
        "- Activation layers ([index](https://pytorch.org/docs/stable/nn.html#pooling-layers))\n",
        "- Normalization layers ([index](https://pytorch.org/docs/stable/nn.html#normalization-layers))\n",
        "- Dropout layers ([index](https://pytorch.org/docs/stable/nn.html#dropout-layers))\n",
        "\n",
        "From Coding Tutorial 2 through Coding Tutorial 7, we practiced using these layers to customize model architectures. Below is the summary of steps toward using a layer in an architecture:\n",
        "1. Go through the layer documentation. Make sure you understand the function (e.g., $Y = Wx + b$ for linear function).\n",
        "2. Adjust the arguments to fit your archtecture needs (e.g., padding size, pooling size, dropout probability).\n",
        "3. Apply the correct sizes for layer input and output (and hidden state if applicable) to connect it to other layers.\n",
        "\n",
        "Many errors of shape mismatch come from the incorrect layer input and output shape. When debugging architecture issues, it can be very helpful to print the shapes of intermediate features."
      ],
      "metadata": {
        "id": "bEIlH_gkYs-p"
      }
    },
    {
      "cell_type": "markdown",
      "source": [
        "## Review"
      ],
      "metadata": {
        "id": "-1kmrJSNPhWZ"
      }
    },
    {
      "cell_type": "markdown",
      "source": [
        "Recurrent architectures are usually more time-consuming to train. To perform experiments, you can use shorter sequences (i.e., set up a smaller sequence window size).\n",
        "\n",
        "You can complete the following tasks to practice coding recurrent architectures:\n",
        "1. Use the `window_size=10` for the dataset. Train SimpleRNN, LSTM, and GRU for 15 epochs. Generate characters using the three models, respectively, and compare the results.\n",
        "2. Create an RNN model using the architecture similar to `SimpleRNN`, and set up the activation gate to be `relu`. Without specifying parameter initialization method, the default kaiming should be applied. Train the model for 3 epochs. Do you see the explosion effect? Is the computation time faster or slower than when using tanh?"
      ],
      "metadata": {
        "id": "-nICiN44qQqd"
      }
    },
    {
      "cell_type": "markdown",
      "source": [
        "For any questions and discussions regarding this tutorial, attend [TA office hours](https://docs.google.com/spreadsheets/d/1fzfTJpEF7RaUYRA_NGa3DkiazdQXVj7QNBbp6DrEZ3I/edit?usp=sharing) or create a post on [Piazza](https://piazza.com/colorado/spring2025/csci5922/home) :) See you in the next tutorial!\n",
        "\n",
        "\\- Everley"
      ],
      "metadata": {
        "id": "9heH9WnGPeoi"
      }
    }
  ]
}