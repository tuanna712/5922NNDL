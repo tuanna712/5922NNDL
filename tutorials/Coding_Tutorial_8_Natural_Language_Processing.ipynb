{
  "cells": [
    {
      "cell_type": "markdown",
      "metadata": {
        "id": "aMBBHiPV4tcu"
      },
      "source": [
        "# Coding Tutorial 8 - Natural Language Processing\n",
        "\n",
        "```\n",
        "Course: CSCI 5922 Spring 2025, University of Colorado Boulder\n",
        "TA: Everley Tseng\n",
        "Email: Yu-Yun.Tseng@colorado.edu\n",
        "* AI assistant is used in making this tutorial\n",
        "```"
      ]
    },
    {
      "cell_type": "markdown",
      "metadata": {
        "id": "YUizsXbj43EJ"
      },
      "source": [
        "## Overview\n",
        "\n",
        "Sections:\n",
        "- NLP libraries\n",
        "- Tokenization and pre-processing: word, subword, and character\n",
        "- Word embeddings\n",
        "\n",
        "\n",
        "Objectives:\n",
        "- Know what NLP libraries are available\n",
        "- Learn how to perform standard text processing steps in NLP\n",
        "- Learn how to tokenize text data on word, subword, and character levels\n",
        "- Learn to load pre-trained word embeddings\n"
      ]
    },
    {
      "cell_type": "markdown",
      "metadata": {
        "id": "5tN62Cu4ldcr"
      },
      "source": [
        "## NLP Libraries"
      ]
    },
    {
      "cell_type": "markdown",
      "metadata": {
        "id": "I64qwoaFmm00"
      },
      "source": [
        "Common NLP libraries include rule-based processing and deep learning models (embeddings or other tasks). Below, we list some libraries that can be helpful for NLP tasks:\n",
        "\n",
        "- Rule-based text processing: [NLTK](https://www.nltk.org/) and [spaCy](https://spacy.io/usage/spacy-101)\n",
        "- Embeddings and models: [Gensim](https://radimrehurek.com/gensim/auto_examples/index.html) and [Hugging face transformers](https://huggingface.co/docs/transformers/en/index)"
      ]
    },
    {
      "cell_type": "markdown",
      "metadata": {
        "id": "uCGJNIf897lP"
      },
      "source": [
        "### NLTK and spaCy\n",
        "\n",
        "Both **NLTK (Natural Language Toolkit)** and **spaCy** are widely used for NLP tasks, but they have different strengths. This guide compares them and helps you choose the right tool.\n",
        "\n",
        "\n",
        "| Feature | **NLTK** | **spaCy** |\n",
        "|---------|---------|---------|\n",
        "| **Speed** | Slow | Fast (Cython-optimized) |\n",
        "| **Ease of Use** | More complex API | Intuitive & modern API |\n",
        "| **Pre-trained Models** | Requires manual setup | Pre-trained models (`en_core_web_sm`, etc.) |\n",
        "| **Text Processing Tools** | Extensive (stemming, parsing, etc.) | More efficient |\n",
        "| **Stopwords Support** | Yes (`nltk.corpus.stopwords`) |  Yes (built-in `is_stop`) |\n",
        "| **Named Entity Recognition (NER)** | Requires training | Pre-trained & efficient |\n",
        "| **Deep Learning Integration** | Not optimized for DL models | Better integration with PyTorch, TensorFlow |\n",
        "| **Lemmatization** | Yes (`WordNetLemmatizer`) | Yes (`token.lemma_`, faster) |\n",
        "\n",
        "**When to Choose NLTK?**\n",
        "- Custom NLP pipelines for specialized tasks\n",
        "- Linguistics-based NLP research\n",
        "\n",
        "**When to Choose spaCy?**\n",
        "- Need faster NLP processing (pre-trained models)\n",
        "- Deep learning integration (e.g., PyTorch, TensorFlow)\n",
        "- Industry-ready NLP applications (e.g., chatbots)\n"
      ]
    },
    {
      "cell_type": "markdown",
      "metadata": {
        "id": "W8MVfWcgA4BG"
      },
      "source": [
        "As spaCy integrates with our applications better, we will be using it for this course. However, if you are interested in liguistics oriented NLP, NLTK offers greater flexibility for customization (as discussed in NLTK's [tutorial](https://www.nltk.org/book/ch01.html))."
      ]
    },
    {
      "cell_type": "code",
      "execution_count": null,
      "metadata": {
        "colab": {
          "base_uri": "https://localhost:8080/"
        },
        "id": "nFjVO3-u_qFp",
        "outputId": "6bd1c03c-82e2-4050-f530-26677620d6c2"
      },
      "outputs": [
        {
          "name": "stderr",
          "output_type": "stream",
          "text": [
            "/usr/local/lib/python3.11/dist-packages/spacy/util.py:1740: UserWarning: [W111] Jupyter notebook detected: if using `prefer_gpu()` or `require_gpu()`, include it in the same cell right before `spacy.load()` to ensure that the model is loaded on the correct device. More information: http://spacy.io/usage/v3#jupyter-notebook-gpu\n",
            "  warnings.warn(Warnings.W111)\n"
          ]
        }
      ],
      "source": [
        "import spacy\n",
        "nlp = spacy.load(\"en_core_web_sm\")"
      ]
    },
    {
      "cell_type": "markdown",
      "metadata": {
        "id": "Xvut0rWAo0FP"
      },
      "source": [
        "### Gensim and Hugging Face"
      ]
    },
    {
      "cell_type": "markdown",
      "metadata": {
        "id": "m0QYx-rcpSfC"
      },
      "source": [
        "Both Gensim and Hugging Face provide pre-trained embedding models. Gensim is a more traditional library built for unsupervised topic modeling and word embeddings, and Hugging Face was founded to make state-of-the-art NLP models accessible.\n",
        "\n",
        "\n",
        "| Feature | **Gensim** | **Hugging Face** |\n",
        "|---------|---------|---------|\n",
        "| **Model Type** | Word2Vec, FastText, etc. | BERT, GPT, T5, etc. |\n",
        "| **Handles out-of-vocabulary (OOV)** | No | Yes |\n",
        "| **Best for** | Word similarity, topic modeling | Deep learning NLP tasks |\n",
        "\n",
        "We will be using both in this course. In this tutorial, we will focus on the `Word2Vec` embeddings in Gensim, and the Hugging Face library `transformers` will be introduced in future tutorials.\n",
        "\n"
      ]
    },
    {
      "cell_type": "code",
      "execution_count": null,
      "metadata": {
        "id": "nN5GN2wq5qFP"
      },
      "outputs": [],
      "source": [
        "import gensim"
      ]
    },
    {
      "cell_type": "markdown",
      "metadata": {
        "id": "Njro-vtn7o3S"
      },
      "source": [
        "## Tokenization"
      ]
    },
    {
      "cell_type": "markdown",
      "metadata": {
        "id": "Gn1HMEq0QdjO"
      },
      "source": [
        "### Word-Based Tokenization"
      ]
    },
    {
      "cell_type": "markdown",
      "metadata": {
        "id": "hR-ezZ2_QsXZ"
      },
      "source": [
        "Word tokenization splits text into words based on spaces and punctuation. Common practices to clean up the text data for word-based tokenization includes converting all charaters to lower-case, removing stop words, and stemming/lemmatization."
      ]
    },
    {
      "cell_type": "markdown",
      "metadata": {
        "id": "PBbAiQPde9Yw"
      },
      "source": [
        "#### Lowercase Texts"
      ]
    },
    {
      "cell_type": "code",
      "execution_count": null,
      "metadata": {
        "colab": {
          "base_uri": "https://localhost:8080/"
        },
        "id": "7TujC_jz4qxs",
        "outputId": "395d4ac8-efb3-4b3a-c98b-ea0ec43cac5d"
      },
      "outputs": [
        {
          "name": "stdout",
          "output_type": "stream",
          "text": [
            "hello world deep learning is so much fun keep your codes running \n"
          ]
        }
      ],
      "source": [
        "import re\n",
        "\n",
        "text = 'Hello, World! Deep Learning is so much fun. Keep your codes running!!'\n",
        "cleaned_text = text.lower()  # Lowercase\n",
        "cleaned_text = re.sub(r'\\W+', ' ', cleaned_text)  # Remove punctuation (if needed)\n",
        "\n",
        "print(cleaned_text)"
      ]
    },
    {
      "cell_type": "markdown",
      "metadata": {
        "id": "4e8573A3fGLX"
      },
      "source": [
        "#### Tokenize Words"
      ]
    },
    {
      "cell_type": "code",
      "execution_count": null,
      "metadata": {
        "colab": {
          "base_uri": "https://localhost:8080/"
        },
        "id": "Gs6dF3OiQoV_",
        "outputId": "a9f574ae-61ce-4e8e-dc29-7671e9e80009"
      },
      "outputs": [
        {
          "name": "stdout",
          "output_type": "stream",
          "text": [
            "['hello', 'world', 'deep', 'learning', 'is', 'so', 'much', 'fun', 'keep', 'your', 'codes', 'running']\n"
          ]
        }
      ],
      "source": [
        "doc = nlp(cleaned_text)\n",
        "tokens = [token for token in doc]\n",
        "print([token.text for token in tokens])"
      ]
    },
    {
      "cell_type": "markdown",
      "metadata": {
        "id": "2Ss9DsCq7iVu"
      },
      "source": [
        "#### Remove Stop Words"
      ]
    },
    {
      "cell_type": "code",
      "execution_count": null,
      "metadata": {
        "colab": {
          "base_uri": "https://localhost:8080/"
        },
        "id": "CwbIYDpA6dK2",
        "outputId": "80831808-7063-4c0c-f8b9-55c7ca252fc8"
      },
      "outputs": [
        {
          "name": "stdout",
          "output_type": "stream",
          "text": [
            "['hello', 'world', 'deep', 'learning', 'fun', 'codes', 'running']\n"
          ]
        }
      ],
      "source": [
        "filtered_tokens = [token for token in tokens if not token.is_stop]\n",
        "print([token.text for token in filtered_tokens])"
      ]
    },
    {
      "cell_type": "markdown",
      "metadata": {
        "id": "OSII-K697lnI"
      },
      "source": [
        "#### Stemming/Lemmatization"
      ]
    },
    {
      "cell_type": "code",
      "execution_count": null,
      "metadata": {
        "colab": {
          "base_uri": "https://localhost:8080/"
        },
        "id": "pHTuutf39Cq_",
        "outputId": "ca4d97ce-f1a4-4801-da25-98624d55f433"
      },
      "outputs": [
        {
          "name": "stdout",
          "output_type": "stream",
          "text": [
            "['hello', 'world', 'deep', 'learning', 'fun', 'code', 'run']\n"
          ]
        }
      ],
      "source": [
        "lemmas = [token.lemma_ for token in filtered_tokens if not token.is_stop]\n",
        "print(lemmas)"
      ]
    },
    {
      "cell_type": "markdown",
      "metadata": {
        "id": "3B4yrfyi7qvS"
      },
      "source": [
        "Question: Why is ***running*** lemmatized into ***run***, but ***learning*** is still ***learning***?\n",
        "\n",
        "Answer: ***Running*** is a verb in the sentence, so the lemma of the verb is ***run***. However, ***learning*** is used as a noun in the sentence, and so the lemma of this noun is ***learning*** rather than the verb ***learn***."
      ]
    },
    {
      "cell_type": "markdown",
      "metadata": {
        "id": "To45nfgEV6JU"
      },
      "source": [
        "### Subword Tokenization (Byte-Pair Encoding)"
      ]
    },
    {
      "cell_type": "markdown",
      "metadata": {
        "id": "cmEyCmU3V_6-"
      },
      "source": [
        "Byte Pair Encoding (BPE) helps handle rare words and unknown tokens. It is commonly used in BERT, GPT, and other transformer models that we will cover. Instead of treating entire words as individual tokens, subword tokenization breaks words into frequently occurring subword units. This allows the model to handle rare and unseen words efficiently while still capturing meaningful components of words. For example:\n",
        "```\n",
        "text = \"unhappiness\"\n",
        "tokens = [\"un\", \"happiness\"]  # BPE splits the word into meaningful subunits\n",
        "```\n",
        "\n",
        "As this approach covers both word-level meaning and lemma extraction, it effectively handles word variants. Therefore, we don’t need the complex processing steps used in word-based tokenization. Note that trained tokenizers also handle lowercasing, so additional pre-processing is unnecessary. There are both case-sensitive models (e.g., `bert-base-cased`) and case-insensitive models (e.g., `bert-base-uncased`), where the former preserves the original casing while the latter converts all text to lowercase.\n",
        "\n",
        "There are some libraries that support BPE, including `transformers` and `sentencepiece`. As we will be using `transformers` models in future tutorials, we can practice using its module `AutoTokenizer` to load a pre-trained BPE tokenizer to process our text:"
      ]
    },
    {
      "cell_type": "code",
      "execution_count": null,
      "metadata": {
        "colab": {
          "base_uri": "https://localhost:8080/"
        },
        "id": "xqUB9yE4ZQ_3",
        "outputId": "a5ddbf42-f7f2-40d0-cfd4-4994f904eb5c"
      },
      "outputs": [
        {
          "name": "stdout",
          "output_type": "stream",
          "text": [
            "['token', '##ization', 'using', 'byte', '-', 'pair', 'encoding', '!']\n"
          ]
        }
      ],
      "source": [
        "from transformers import AutoTokenizer\n",
        "\n",
        "tokenizer = AutoTokenizer.from_pretrained(\"bert-base-uncased\")\n",
        "\n",
        "text = 'Tokenization using Byte-Pair Encoding!'\n",
        "tokens = tokenizer.tokenize(text)\n",
        "print(tokens)"
      ]
    },
    {
      "cell_type": "markdown",
      "metadata": {
        "id": "AreUSpzQQhh6"
      },
      "source": [
        "### Character-Based Tokenization"
      ]
    },
    {
      "cell_type": "markdown",
      "metadata": {
        "id": "hMvv5K_hAaYb"
      },
      "source": [
        "#### Lowercase Texts"
      ]
    },
    {
      "cell_type": "code",
      "execution_count": null,
      "metadata": {
        "id": "P4QKfTV4Adfr"
      },
      "outputs": [],
      "source": [
        "text = 'Hello, World!'\n",
        "text = text.lower() # Lowercase"
      ]
    },
    {
      "cell_type": "markdown",
      "metadata": {
        "id": "XFxS_o_OAhQu"
      },
      "source": [
        "#### Tokenize Characters\n",
        "\n",
        "To split text into individual characters, we can simply use python's built-in capabilities.\n",
        "\n",
        "\n"
      ]
    },
    {
      "cell_type": "code",
      "execution_count": null,
      "metadata": {
        "colab": {
          "base_uri": "https://localhost:8080/"
        },
        "id": "aJn81BHV7qad",
        "outputId": "35fcb892-6946-42cb-a57b-08d688b780ec"
      },
      "outputs": [
        {
          "name": "stdout",
          "output_type": "stream",
          "text": [
            "['h', 'e', 'l', 'l', 'o', ',', ' ', 'w', 'o', 'r', 'l', 'd', '!']\n"
          ]
        }
      ],
      "source": [
        "tokens = list(text) # Tokenize\n",
        "print(tokens)"
      ]
    },
    {
      "cell_type": "markdown",
      "metadata": {
        "id": "DSIcYMxaUgOC"
      },
      "source": [
        "As we experienced in Coding Tutorial 7, character-based prediction might not always work well. However, it may be useful in the following scenarios:\n",
        "\n",
        "- Handling **noisy** or **unconventional** text: It can perform well when for spelling variations, typos, social media text, or optical character recognition errors.\n",
        "- Generating text at the character level: Tasks like handwriting recognition, speech-to-text, or code generation benefit from character-level processing.\n",
        "- Languages with complex morphology: For languages with rich inflections (e.g., Finnish, Turkish), character-based models can sometimes handle previously unseen words better.\n",
        "- Character-based languages or languages without spaces (e.g., Chinese and Japanese): English words convey meaning at the **word** and **subword** levels, but in some languages, the characters carry the semantic meanings.\n"
      ]
    },
    {
      "cell_type": "markdown",
      "metadata": {
        "id": "ivw_tJwhfR0B"
      },
      "source": [
        "## Word Embeddings"
      ]
    },
    {
      "cell_type": "markdown",
      "metadata": {
        "id": "YuWpYU54jiwU"
      },
      "source": [
        "We will now **explore word embeddings**—a core concept in Natural Language Processing (NLP). Word embeddings are vector representations of words that capture their meanings based on context and relationships with other words. Unlike traditional one-hot encoding, word embeddings group similar words together in a high-dimensional space, allowing models to understand relationships between words.\n",
        "\n",
        "To demonstrate these relationships, we are using pretrained GloVe word embeddings, which have been trained on large text corpora to capture semantic and syntactic patterns. By visualizing these embeddings in a lower-dimensional space, we can see how words that share similar meanings or relationships are positioned close to one another."
      ]
    },
    {
      "cell_type": "markdown",
      "metadata": {
        "id": "zBS2NLyHF902"
      },
      "source": [
        "### Using a Pretrained Embedding"
      ]
    },
    {
      "cell_type": "markdown",
      "metadata": {
        "id": "S2RJ3qKb3UNp"
      },
      "source": [
        "\n",
        "The library `gensim` has built-in Word2Vec model for you to load and train on your data. To do so, you can use:\n",
        "```\n",
        "from gensim.models import Word2Vec\n",
        "model = Word2Vec(corpus, vector_size=100, window=5, min_count=1, workers=4)\n",
        "```\n",
        "However, we are not training our own embeddings today. Instead, we will use the pre-trained word embeddings, [GloVe](https://nlp.stanford.edu/projects/glove/). There are choices of 50d, 100d, 200d and 300d in the folder. We will load the 100d version.\n",
        "\n",
        "Note: When you use `wget` on Colab, the default directory is `/content/`. However, files don't persist across runtimes. Once you exit the runtime, these files will be deleted.\n",
        "\n"
      ]
    },
    {
      "cell_type": "code",
      "execution_count": null,
      "metadata": {
        "colab": {
          "base_uri": "https://localhost:8080/"
        },
        "id": "_VQIMT8zwSF4",
        "outputId": "35632686-2110-45cf-a465-e2a229d005cc"
      },
      "outputs": [
        {
          "output_type": "stream",
          "name": "stdout",
          "text": [
            "--2025-02-17 21:43:22--  http://nlp.stanford.edu/data/glove.6B.zip\n",
            "Resolving nlp.stanford.edu (nlp.stanford.edu)... 171.64.67.140\n",
            "Connecting to nlp.stanford.edu (nlp.stanford.edu)|171.64.67.140|:80... connected.\n",
            "HTTP request sent, awaiting response... 302 Found\n",
            "Location: https://nlp.stanford.edu/data/glove.6B.zip [following]\n",
            "--2025-02-17 21:43:22--  https://nlp.stanford.edu/data/glove.6B.zip\n",
            "Connecting to nlp.stanford.edu (nlp.stanford.edu)|171.64.67.140|:443... connected.\n",
            "HTTP request sent, awaiting response... 301 Moved Permanently\n",
            "Location: https://downloads.cs.stanford.edu/nlp/data/glove.6B.zip [following]\n",
            "--2025-02-17 21:43:22--  https://downloads.cs.stanford.edu/nlp/data/glove.6B.zip\n",
            "Resolving downloads.cs.stanford.edu (downloads.cs.stanford.edu)... 171.64.64.22\n",
            "Connecting to downloads.cs.stanford.edu (downloads.cs.stanford.edu)|171.64.64.22|:443... connected.\n",
            "HTTP request sent, awaiting response... 200 OK\n",
            "Length: 862182613 (822M) [application/zip]\n",
            "Saving to: ‘glove.6B.zip’\n",
            "\n",
            "glove.6B.zip        100%[===================>] 822.24M  5.00MB/s    in 3m 0s   \n",
            "\n",
            "2025-02-17 21:46:22 (4.57 MB/s) - ‘glove.6B.zip’ saved [862182613/862182613]\n",
            "\n"
          ]
        }
      ],
      "source": [
        "!wget http://nlp.stanford.edu/data/glove.6B.zip\n",
        "!unzip -q glove.6B.zip"
      ]
    },
    {
      "cell_type": "markdown",
      "metadata": {
        "id": "ClVg5bn-ynCJ"
      },
      "source": [
        "Use `gensim` to convert the embedding into the word2vec format:"
      ]
    },
    {
      "cell_type": "code",
      "execution_count": null,
      "metadata": {
        "id": "2SQ7GXi6VPYY",
        "colab": {
          "base_uri": "https://localhost:8080/"
        },
        "outputId": "9d9225b6-3780-4e09-b842-f7ede76f853d"
      },
      "outputs": [
        {
          "output_type": "stream",
          "name": "stderr",
          "text": [
            "<ipython-input-6-49a1e46c0525>:7: DeprecationWarning: Call to deprecated `glove2word2vec` (KeyedVectors.load_word2vec_format(.., binary=False, no_header=True) loads GLoVE text vectors.).\n",
            "  glove2word2vec(glove_input_file, output_file)\n"
          ]
        }
      ],
      "source": [
        "from gensim.scripts.glove2word2vec import glove2word2vec\n",
        "from gensim.models import KeyedVectors\n",
        "\n",
        "glove_input_file = 'glove.6B.100d.txt'\n",
        "output_file = 'glove.6B.100d.word2vec.txt'\n",
        "\n",
        "glove2word2vec(glove_input_file, output_file)\n",
        "model = KeyedVectors.load_word2vec_format(output_file, binary=False)"
      ]
    },
    {
      "cell_type": "markdown",
      "metadata": {
        "id": "Lu_gb6H7425D"
      },
      "source": [
        "### Vector Arithmetic"
      ]
    },
    {
      "cell_type": "markdown",
      "metadata": {
        "id": "mDGFOZd63Buj"
      },
      "source": [
        "Let's look at some vector arithmetic examples. By performing word vector arithmetic, we can test how well the embeddings capture **semantic relationships**.\n",
        "\n",
        "Use [`most_similar`](https://tedboy.github.io/nlps/generated/generated/gensim.models.Word2Vec.most_similar.html) to identify the top $n$ words closest to the given vector."
      ]
    },
    {
      "cell_type": "code",
      "execution_count": null,
      "metadata": {
        "colab": {
          "base_uri": "https://localhost:8080/"
        },
        "id": "zM22MS43wBlx",
        "outputId": "e762caf4-87de-4213-db2e-b46a1f912e0f"
      },
      "outputs": [
        {
          "output_type": "stream",
          "name": "stdout",
          "text": [
            "[('queen', 0.7698540687561035)] [('paris', 0.8822440505027771)]\n"
          ]
        }
      ],
      "source": [
        "# example: (king - man) + woman = ?\n",
        "result_1 = model.most_similar(positive=['woman', 'king'], negative=['man'], topn=1)\n",
        "\n",
        "# example: (Moscow - Russia) + France = ?\n",
        "result_2 = model.most_similar(positive=['france', 'moscow'], negative=['russia'], topn=1)\n",
        "\n",
        "print(result_1, result_2)"
      ]
    },
    {
      "cell_type": "markdown",
      "metadata": {
        "id": "ZVQVuRVD45oa"
      },
      "source": [
        "### Embedding Space Visualization"
      ]
    },
    {
      "cell_type": "markdown",
      "metadata": {
        "id": "KwErocsR38iv"
      },
      "source": [
        "Now, to better understand this vector arithmetic relationship, let's visualize the following words on a 2-dimensional plane. This is just a demonstration to help you better understand word embeddings, so you are not required to learn about dimension compression or how to code the following cells."
      ]
    },
    {
      "cell_type": "code",
      "execution_count": null,
      "metadata": {
        "id": "t_4zg2V80WpE"
      },
      "outputs": [],
      "source": [
        "words = [\n",
        "    'france', 'paris', 'germany', 'berlin', 'russia', 'moscow', 'italy', 'rome',\n",
        "    'china', 'beijing', 'japan', 'tokyo', 'canada', 'ottawa', 'usa', 'washington',\n",
        "    'india', 'delhi', 'brazil', 'brasilia', 'australia', 'canberra', 'spain', 'madrid',\n",
        "    'england', 'london', 'turkey', 'ankara']"
      ]
    },
    {
      "cell_type": "code",
      "execution_count": null,
      "metadata": {
        "id": "_vXcVUzUy018",
        "colab": {
          "base_uri": "https://localhost:8080/",
          "height": 564
        },
        "outputId": "761f61e2-1943-4ecc-a95e-c409585d0b74"
      },
      "outputs": [
        {
          "output_type": "display_data",
          "data": {
            "text/plain": [
              "<Figure size 1000x600 with 1 Axes>"
            ],
            "image/png": "[encoded data removed]"
          },
          "metadata": {}
        }
      ],
      "source": [
        "import numpy as np\n",
        "import matplotlib.pyplot as plt\n",
        "from sklearn.decomposition import PCA\n",
        "\n",
        "vectors = np.array([model[word] for word in words])\n",
        "\n",
        "# Reduce to 2D using PCA\n",
        "pca = PCA(n_components=2)\n",
        "reduced_vectors = pca.fit_transform(vectors)\n",
        "\n",
        "# Plot the PCA space\n",
        "plt.figure(figsize=(10, 6))\n",
        "plt.scatter(reduced_vectors[:, 0], reduced_vectors[:, 1])\n",
        "for i in range(len(words)):\n",
        "    x, y = reduced_vectors[i]\n",
        "    plt.text(x, y, words[i], fontsize=12)\n",
        "    if i%2==0:\n",
        "        x2, y2 = reduced_vectors[i+1]\n",
        "        dx = x2 - x\n",
        "        dy = y2 - y\n",
        "        plt.arrow(x, y, dx, dy, fc='red', ec='red')\n",
        "\n",
        "plt.xlabel(\"PCA Component 1\")\n",
        "plt.ylabel(\"PCA Component 2\")\n",
        "plt.title(\"Word Embeddings PCA Visualization\")\n",
        "plt.show()\n"
      ]
    },
    {
      "cell_type": "markdown",
      "metadata": {
        "id": "VBhcmIchEvF_"
      },
      "source": [
        "The plot demonstrates how vector arithmetic works. As all the country-capital pairs have similar vectors, we are able to find the target words by performing arithmetic."
      ]
    },
    {
      "cell_type": "markdown",
      "metadata": {
        "id": "j1Wb9t-X4yM0"
      },
      "source": [
        "## Review"
      ]
    },
    {
      "cell_type": "markdown",
      "metadata": {
        "id": "QojEL6qcCK33"
      },
      "source": [
        "Word-based, subword-based, and character-based tokenization each require different preprocessing steps and are suited for different NLP tasks. When working on NLP problems, pre-defined rules (e.g., built-in stop word list) and pre-trained models (e.g., word embeddings, subword encoding) can reduce our efforts greatly. We encourage you to explore the documentations of spaCy and Gensim.\n",
        "\n",
        "For exercises, try the following to reinforce your understanding:\n",
        "- Load [the corpus](https://s3.amazonaws.com/text-datasets/nietzsche.txt) from Coding Tutorial 7 and apply word-based tokenization. Print the text data after each preprocessing step and observe the results. (Since the corpus is large, consider processing and printing partial data to avoid runtime crashes.)\n",
        "- Repeat the previous step using subword-based tokenization and compare the results.\n",
        "- Experiment with vector arithmetic using [these additional examples](http://download.tensorflow.org/data/questions-words.txt). Are the `most_similar` predictions accurate? Do errors decrease when you use larger embeddings, such as `glove.6B.300d.txt`?"
      ]
    },
    {
      "cell_type": "markdown",
      "metadata": {
        "id": "EX6Rfq7z4zMX"
      },
      "source": [
        "For any questions and discussions regarding this tutorial, attend [TA office hours](https://docs.google.com/spreadsheets/d/1fzfTJpEF7RaUYRA_NGa3DkiazdQXVj7QNBbp6DrEZ3I/edit?usp=sharing) or create a post on [Piazza](https://piazza.com/colorado/spring2025/csci5922/home) :) See you in the next tutorial!\n",
        "\n",
        "\\- Everley"
      ]
    }
  ],
  "metadata": {
    "colab": {
      "toc_visible": true,
      "provenance": []
    },
    "kernelspec": {
      "display_name": "Python 3",
      "name": "python3"
    },
    "language_info": {
      "name": "python"
    }
  },
  "nbformat": 4,
  "nbformat_minor": 0
}