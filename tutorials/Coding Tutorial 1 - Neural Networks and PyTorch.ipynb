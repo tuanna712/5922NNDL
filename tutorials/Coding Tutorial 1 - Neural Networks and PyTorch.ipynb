{
 "cells": [
  {
   "cell_type": "markdown",
   "metadata": {
    "id": "XTGPoBZ2LNNJ"
   },
   "source": [
    "# Coding Tutorial 1: Neural Networks and PyTorch\n",
    "\n",
    "```\n",
    "Course: CSCI 5922 Spring 2025, University of Colorado Boulder\n",
    "TA: Everley Tseng\n",
    "Email: Yu-Yun.Tseng@colorado.edu\n",
    "* AI assistant is used in making this tutorial\n",
    "```\n"
   ]
  },
  {
   "cell_type": "markdown",
   "metadata": {
    "id": "nszDfMUQiY7f"
   },
   "source": [
    "[Lecture Video](https://o365coloradoedu-my.sharepoint.com/:v:/g/personal/yuts1923_colorado_edu/EXWgjy1sF91Kp3t2K4pSIoIBRyLU_BKSbFrOgYcMbkvqWA?e=O5YltB&nav=eyJyZWZlcnJhbEluZm8iOnsicmVmZXJyYWxBcHAiOiJTdHJlYW1XZWJBcHAiLCJyZWZlcnJhbFZpZXciOiJTaGFyZURpYWxvZy1MaW5rIiwicmVmZXJyYWxBcHBQbGF0Zm9ybSI6IldlYiIsInJlZmVycmFsTW9kZSI6InZpZXcifX0%3D)\n",
    "\n",
    "Welcome to our first coding tutorial! I’m your TA, Everley, and I’ll be leading the coding tutorials this semester. These are designed to help you build a solid foundation in deep learning, by complementing what you learn in class with hands-on deep learning implementations.\n",
    "\n",
    "We’ll focus on topics that are essential for your lab assignments, but some tutorials will also include optional sections that explore advanced concepts to expand your knowledge. We’ll share external links and resources in these tutorials to help you dive deeper into the material. Additionally, we will provide videos where I walk you through the script for each tutorial.\n",
    "\n",
    "I welcome any real-time feedback on how we can improve these tutorials to support your learning experience. I’m looking forward to a semester of learning and coding with all of you!\n"
   ]
  },
  {
   "cell_type": "markdown",
   "metadata": {
    "id": "1BytlBmGLaLG"
   },
   "source": [
    "## Overview\n",
    "\n",
    "Sections:\n",
    "- Introduction to Google Colaboratory\n",
    "- Introduction to PyTorch\n",
    "- Coding in PyTorch:\n",
    "  1. Introduction to tensors\n",
    "  2. Common ways to use tensors\n",
    "  3. PyTorch built-ins\n",
    "\n",
    "Objectives:\n",
    "- Learn how to use Colab to run Python scripts\n",
    "- Learn how to use a `tensor` in PyTorch\n",
    "- Learn how to utilize library documentation"
   ]
  },
  {
   "cell_type": "markdown",
   "metadata": {
    "id": "-1Vd43KzRzJS"
   },
   "source": [
    "## Introduction to Google Colaboratory\n",
    "\n",
    "**Google Colab** is a cloud-based platform that allows you to run Python notebooks without needing to install anything on your computer. We will use Colab for most coding tutorials this semester.\n",
    "\n",
    "To start Google Colab, you will need to sign in to a Google account. Go to this [link](https://colab.research.google.com/) to open your first script. By default, you will have read-only access to the tutorials, meaning you cannot directly run the code. To run the code, you must **copy the tutorial** to your own Google Drive.\n",
    "\n",
    "### Python Notebook\n",
    "\n",
    "**Colab** files are in Python notebook format. **Python notebooks** are interactive documents that combine code, text, and visualizations in a single interface. In a Python Notebook, you can create text cells and code cells using the toolbar at the top left of the page. **Text cells** (or markdown cells) display descriptive content, like the one you are currently reading. **Code cells** contain Python code that you can execute by clicking on the ▶ button located on the far left of the cell. Alternatively, you can run a cell by pressing **Shift + Enter** on your keyboard. You can view a high-level summary of what is covered in each tutorial by clicking the `Table of contents` symbol in the left sidebar. To collapse the cells in a section, click on the &or; symbol on the left of the section title.\n",
    "\n",
    "### Computing Resources\n",
    "\n",
    "By default, Colab provides access to a **CPU** as the computing resource. To connect to a GPU, navigate to **Runtime > Change runtime type**, and select an available GPU. Since Colab's computing resources are provided for free, GPU usage is limited, and the session will terminate once you reach the usage limit. If needed, you can connect a Colab notebook to paid GPU resources on Google Cloud. In the first few tutorials, we will only use CPUs (default) for training. GPU usages will be covered in future tutorials.\n",
    "\n",
    "\n",
    "### External Resources\n",
    "- Google Colaboratory [FAQ](https://research.google.com/colaboratory/faq.html)\n",
    "- What is a markdown cell and how do I code it? [GeeksforGeeks: Markdown cell in Jupyter Notebook](https://www.geeksforgeeks.org/markdown-cell-in-jupyter-notebook/)\n",
    "- What is a CPU and what is a GPU? [Google Cloud: Introduction to Cloud TPU](https://cloud.google.com/tpu/docs/intro-to-tpu)\n"
   ]
  },
  {
   "cell_type": "markdown",
   "metadata": {
    "id": "PNTYnDAuehck"
   },
   "source": [
    "## Introduction to PyTorch\n",
    "\n",
    "In this course, we will primarily use the Python package **PyTorch** to support deep learning coding. PyTorch is a deep learning framework that has gained significant popularity in both industry and academia. You will be required to use PyTorch for lab assignments, as it provides a strong foundation for understanding and implementing deep learning models.\n",
    "\n",
    "While PyTorch will be the only required framework in lab assignments, we will also provide optional tutorials to introduce other commonly used frameworks. Understanding multiple frameworks will give you insight into the different tools available and help you make informed decisions about which framework to use in the future.\n",
    "\n",
    "### What is a Tensor?\n",
    "\n",
    "A **tensor** is a fundamental building block in deep learning and represents a **multi-dimensional array** of numbers. You can think of it as an advanced version of arrays or matrices from mathematics, capable of holding data in higher dimensions. Here are some examples of tensors:\n",
    "- A scalar: A single number (0D tensor). Example: 5\n",
    "- A vector: A list of numbers (1D tensor). Example: `[1, 2, 3]`\n",
    "- A matrix: A grid of numbers (2D tensor). Example: `[[1, 2], [3, 4]]`\n",
    "\n",
    "### Why Are Tensors Used for Deep Learning?\n",
    "\n",
    "Deep learning involves lots of multi-dimensional arrays, which can be represented by tensors. Here are some examples of how tensors are used:\n",
    "- **Data Representation**: Tensors are used to represent inputs (e.g., images, text, audio) and outputs for deep learning models.\n",
    "Example: An image can be represented as a 3D tensor with dimensions [channels, height, width].\n",
    "- **Model Parameters**: Neural network weights and biases are stored as tensors.\n",
    "- **Efficient Computations**: Tensors are optimized for operations on GPUs, making deep learning computations faster.\n",
    "- **Intermediate Calculations**: During forward and backward passes, tensors store intermediate results and gradients.\n",
    "\n",
    "The `torch` library simplifies working with these tensors.\n",
    "\n",
    "\n",
    "### External Resources\n",
    "\n",
    "- PyTorch documentation: [PyTorch index](https://pytorch.org/docs/stable/index.html)\n",
    "- Tensors in PyTorch: [Tensor](https://pytorch.org/docs/stable/tensors.html)\n",
    "- To use PyTorch locally (not on Colab), install the package following the instructions on [this page](https://pytorch.org/)."
   ]
  },
  {
   "cell_type": "markdown",
   "metadata": {
    "id": "CkHfFsIMOLfi"
   },
   "source": [
    "## Coding PyTorch"
   ]
  },
  {
   "cell_type": "markdown",
   "metadata": {
    "id": "yX6yr0lUTmvs"
   },
   "source": [
    "Import the library:"
   ]
  },
  {
   "cell_type": "code",
   "execution_count": null,
   "metadata": {
    "id": "ulaW1wIbK8C0"
   },
   "outputs": [],
   "source": [
    "import torch"
   ]
  },
  {
   "cell_type": "markdown",
   "metadata": {
    "id": "ePkNWWvmTzU4"
   },
   "source": [
    "### Introduction to Tensor\n",
    "\n",
    "- The tensor class in PyTorch: [`torch.tensor`](https://pytorch.org/docs/stable/generated/torch.tensor.html#torch.tensor)\n",
    "\n"
   ]
  },
  {
   "cell_type": "markdown",
   "metadata": {
    "id": "gxVPRYhBuQxP"
   },
   "source": [
    "#### Create a Tensor\n",
    "Let practice creating tensors in different shapes:"
   ]
  },
  {
   "cell_type": "code",
   "execution_count": null,
   "metadata": {
    "colab": {
     "base_uri": "https://localhost:8080/"
    },
    "executionInfo": {
     "elapsed": 154,
     "status": "ok",
     "timestamp": 1736982523507,
     "user": {
      "displayName": "Everley Tseng",
      "userId": "10143981273771583914"
     },
     "user_tz": 420
    },
    "id": "5HWZDAXCl0hZ",
    "outputId": "f85f203e-f0ad-4742-fc6d-476c8ef128e4"
   },
   "outputs": [
    {
     "name": "stdout",
     "output_type": "stream",
     "text": [
      "Scalar: 5\n",
      "Vector: tensor([1, 2, 3])\n",
      "Matrix: tensor([[1, 2],\n",
      "        [3, 4]])\n",
      "3D tensor: tensor([[[ 1,  2],\n",
      "         [ 3,  4]],\n",
      "\n",
      "        [[ 5,  6],\n",
      "         [ 7,  8]],\n",
      "\n",
      "        [[ 9, 10],\n",
      "         [11, 12]]])\n",
      "3D Tensor shape: torch.Size([3, 2, 2])\n"
     ]
    }
   ],
   "source": [
    "# Scalar (0D tensor)\n",
    "scalar = torch.tensor(5)\n",
    "print('Scalar: {}'.format(scalar))\n",
    "\n",
    "# Vector (1D tensor)\n",
    "vector = torch.tensor([1, 2, 3])\n",
    "print('Vector:', vector)\n",
    "\n",
    "# Matrix (2D tensor)\n",
    "matrix = torch.tensor([[1, 2], [3, 4]])\n",
    "print('Matrix:', matrix)\n",
    "\n",
    "# Higher-dimensional tensor\n",
    "tensor_3d = torch.tensor([[[1, 2], [3, 4]], [[5, 6], [7, 8]], [[9, 10], [11, 12]]])\n",
    "print('3D tensor:', tensor_3d)\n",
    "print('3D Tensor shape:', tensor_3d.shape)"
   ]
  },
  {
   "cell_type": "markdown",
   "metadata": {
    "id": "n5q1shUVvHAd"
   },
   "source": [
    "#### Ways to Initialize a Tensor\n",
    "\n",
    "1. Initialize a tensor with assigned elements (as demonstrated in the above cell)\n",
    "2. Initialize all values of assigned dimension to 1, `torch.ones` ([documentation](https://pytorch.org/docs/stable/generated/torch.ones.html))\n",
    "3. Initialize all values of assigned dimension to 0, `torch.zeros` ([documentation](https://pytorch.org/docs/stable/generated/torch.zeros.html))\n",
    "4. Initialize a 1D tensor within an assigned range, `torch.arange()` ([documentation](https://pytorch.org/docs/stable/generated/torch.arange.html))"
   ]
  },
  {
   "cell_type": "code",
   "execution_count": null,
   "metadata": {
    "colab": {
     "base_uri": "https://localhost:8080/"
    },
    "executionInfo": {
     "elapsed": 140,
     "status": "ok",
     "timestamp": 1736982603785,
     "user": {
      "displayName": "Everley Tseng",
      "userId": "10143981273771583914"
     },
     "user_tz": 420
    },
    "id": "0KJOip-NTkWQ",
    "outputId": "a34494a0-ae51-46ce-9d8d-86deb97cdc89"
   },
   "outputs": [
    {
     "name": "stdout",
     "output_type": "stream",
     "text": [
      "tensor([[1, 2],\n",
      "        [3, 4]])\n",
      "tensor([[1., 1., 1.],\n",
      "        [1., 1., 1.],\n",
      "        [1., 1., 1.],\n",
      "        [1., 1., 1.]])\n",
      "tensor([[0., 0.],\n",
      "        [0., 0.]])\n",
      "tensor([0, 1, 2, 3, 4, 5, 6, 7, 8, 9])\n"
     ]
    }
   ],
   "source": [
    "# assigning elements\n",
    "x = torch.tensor([[1,2], [3,4]])\n",
    "print(x)\n",
    "\n",
    "# all 1s\n",
    "x = torch.ones((4, 3))\n",
    "print(x)\n",
    "\n",
    "# all 0s\n",
    "x = torch.zeros((2, 2))\n",
    "print(x)\n",
    "\n",
    "# 1D tensor from 0 to 9\n",
    "x = torch.arange(10)\n",
    "print(x)\n"
   ]
  },
  {
   "cell_type": "markdown",
   "metadata": {
    "id": "Fp1Srp8lt8Iw"
   },
   "source": [
    "5. Initialize a tensor with random values\n",
    "  - `torch.rand` ([documentation](https://pytorch.org/docs/main/generated/torch.rand.html)): Generates a tensor with random numbers uniformly distributed in the range `[0, 1)`.\n",
    "  - `torch.randn` ([documentation](https://pytorch.org/docs/main/generated/torch.randn.html)): Generates a tensor with random numbers from a standard normal distribution `(mean = 0, std = 1).\n",
    "  - `torch.randint` ([documentation](https://pytorch.org/docs/stable/generated/torch.randint.html)): Generates a tensor with random integers in a specified range.\n",
    "  - `torch.rand_like` ([documentation](https://pytorch.org/docs/stable/generated/torch.rand_like.html)): Creates a tensor with random numbers, matching the shape and device of an existing tensor.\n",
    "  - `torch.randn_like` ([documentation](https://pytorch.org/docs/stable/generated/torch.randn_like.html)): Generates a tensor with random numbers from a normal distribution, matching the shape of an existing tensor.\n",
    "  - `torch.randint_like` ([documentation](https://pytorch.org/docs/stable/generated/torch.randint_like.html)): Generates random integers in a specified range, matching the shape of an existing tensor."
   ]
  },
  {
   "cell_type": "code",
   "execution_count": null,
   "metadata": {
    "colab": {
     "base_uri": "https://localhost:8080/"
    },
    "executionInfo": {
     "elapsed": 330,
     "status": "ok",
     "timestamp": 1736888259089,
     "user": {
      "displayName": "Everley Tseng",
      "userId": "10143981273771583914"
     },
     "user_tz": 420
    },
    "id": "9itp4TpzU6Hl",
    "outputId": "820bf105-350c-4a78-a242-75a7109644eb"
   },
   "outputs": [
    {
     "name": "stdout",
     "output_type": "stream",
     "text": [
      "tensor([[[0.2484, 0.0518, 0.8300, 0.4637],\n",
      "         [0.2312, 0.1527, 0.0196, 0.1769],\n",
      "         [0.4258, 0.8843, 0.6201, 0.7928]],\n",
      "\n",
      "        [[0.4456, 0.6263, 0.8956, 0.3035],\n",
      "         [0.7094, 0.0537, 0.4713, 0.2053],\n",
      "         [0.8963, 0.7265, 0.8068, 0.7315]]])\n",
      "A shape: torch.Size([2, 3, 4]), B shape: torch.Size([2, 3, 4])\n"
     ]
    }
   ],
   "source": [
    "tensor_random_A = torch.rand(2, 3, 4) # pass in the shape\n",
    "tensor_random_B = torch.randn_like(tensor_random_A) # pass in the tensor of which shape is to be matched\n",
    "\n",
    "print(tensor_random_A)\n",
    "print('A shape: {}, B shape: {}'.format(tensor_random_A.shape, tensor_random_B.shape))"
   ]
  },
  {
   "cell_type": "markdown",
   "metadata": {
    "id": "LyKyVmwboRGC"
   },
   "source": [
    "#### Tensor Basic Operations\n",
    "\n",
    "- Arithmetic operations: element-wise $+$, $-$, $\\times$, and $\\div$"
   ]
  },
  {
   "cell_type": "code",
   "execution_count": null,
   "metadata": {
    "colab": {
     "base_uri": "https://localhost:8080/"
    },
    "executionInfo": {
     "elapsed": 99,
     "status": "ok",
     "timestamp": 1736876353121,
     "user": {
      "displayName": "Everley Tseng",
      "userId": "10143981273771583914"
     },
     "user_tz": 420
    },
    "id": "E4d5SmDKoQrV",
    "outputId": "d91326db-08a6-4a4f-d85d-a65ba03fcb2b"
   },
   "outputs": [
    {
     "name": "stdout",
     "output_type": "stream",
     "text": [
      "Addition: tensor([13,  7,  9])\n",
      "Subtraction: tensor([ 5, -3, -3])\n",
      "Element-wise Multiplication: tensor([36, 10, 18])\n",
      "Division: tensor([2.2500, 0.4000, 0.5000])\n"
     ]
    }
   ],
   "source": [
    "a = torch.tensor([9, 2, 3])\n",
    "b = torch.tensor([4, 5, 6])\n",
    "\n",
    "print('Addition:', a + b)\n",
    "print('Subtraction:', a - b)\n",
    "print('Element-wise Multiplication:', a * b)\n",
    "print('Division:', a / b)"
   ]
  },
  {
   "cell_type": "markdown",
   "metadata": {
    "id": "_d0S7tAaofUd"
   },
   "source": [
    "- Matrix multiplication: [`torch.matmul()`](https://pytorch.org/docs/main/generated/torch.matmul.html) or `@`"
   ]
  },
  {
   "cell_type": "code",
   "execution_count": null,
   "metadata": {
    "colab": {
     "base_uri": "https://localhost:8080/"
    },
    "executionInfo": {
     "elapsed": 109,
     "status": "ok",
     "timestamp": 1736982706155,
     "user": {
      "displayName": "Everley Tseng",
      "userId": "10143981273771583914"
     },
     "user_tz": 420
    },
    "id": "yYtWSGqJoj44",
    "outputId": "6e0e4012-3b69-4db6-f970-8d268e478b69"
   },
   "outputs": [
    {
     "name": "stdout",
     "output_type": "stream",
     "text": [
      "Matrix Multiplication:\n",
      " tensor([[19, 22],\n",
      "        [43, 50]])\n",
      "Matrix Multiplication:\n",
      " tensor([[19, 22],\n",
      "        [43, 50]])\n"
     ]
    }
   ],
   "source": [
    "matrix1 = torch.tensor([[1, 2], [3, 4]])\n",
    "matrix2 = torch.tensor([[5, 6], [7, 8]])\n",
    "\n",
    "result = torch.matmul(matrix1, matrix2)\n",
    "print('Matrix Multiplication:\\n', result)\n",
    "\n",
    "result = matrix1 @ matrix2\n",
    "print('Matrix Multiplication:\\n', result)"
   ]
  },
  {
   "cell_type": "markdown",
   "metadata": {
    "id": "2HK14ftBqlIG"
   },
   "source": [
    "- Reshaping a Tensor: [`torch.tensor.view()`](https://pytorch.org/docs/stable/generated/torch.Tensor.view.html) or [`torch.reshape()`](https://pytorch.org/docs/stable/generated/torch.reshape.html)"
   ]
  },
  {
   "cell_type": "code",
   "execution_count": null,
   "metadata": {
    "colab": {
     "base_uri": "https://localhost:8080/"
    },
    "executionInfo": {
     "elapsed": 68,
     "status": "ok",
     "timestamp": 1737312769741,
     "user": {
      "displayName": "Everley Tseng",
      "userId": "10143981273771583914"
     },
     "user_tz": 420
    },
    "id": "KA4P2Uo9q0LP",
    "outputId": "8374ac6b-3178-4fd6-fb21-fea77b38a8d8"
   },
   "outputs": [
    {
     "name": "stdout",
     "output_type": "stream",
     "text": [
      "Initialize a 1D tensor: torch.Size([12]) \n",
      " tensor([ 0,  1,  2,  3,  4,  5,  6,  7,  8,  9, 10, 11])\n",
      "Reshaped 3x4 tensor: torch.Size([3, 4]) \n",
      " tensor([[ 0,  1,  2,  3],\n",
      "        [ 4,  5,  6,  7],\n",
      "        [ 8,  9, 10, 11]])\n",
      "Flattened 1D tensor: torch.Size([12]) \n",
      " tensor([ 0,  1,  2,  3,  4,  5,  6,  7,  8,  9, 10, 11])\n",
      "Reshaped 4x? tensor: torch.Size([4, 3]) \n",
      " tensor([[ 0,  1,  2],\n",
      "        [ 3,  4,  5],\n",
      "        [ 6,  7,  8],\n",
      "        [ 9, 10, 11]])\n",
      "Reshaped ?x2 tensor: torch.Size([6, 2]) \n",
      " tensor([[ 0,  1],\n",
      "        [ 2,  3],\n",
      "        [ 4,  5],\n",
      "        [ 6,  7],\n",
      "        [ 8,  9],\n",
      "        [10, 11]])\n"
     ]
    }
   ],
   "source": [
    "tensor = torch.arange(12)\n",
    "print('Initialize a 1D tensor:',tensor.shape, '\\n', tensor)\n",
    "\n",
    "# Reshape to a 3x4 matrix\n",
    "reshaped = tensor.view(3, 4)\n",
    "print('Reshaped 3x4 tensor:',reshaped.shape, '\\n', reshaped)\n",
    "\n",
    "# Flatten back to 1D\n",
    "flattened = reshaped.view(-1)  # -1 automatically infers the size\n",
    "print(\"Flattened 1D tensor:\", flattened.shape, '\\n', flattened)\n",
    "\n",
    "# Reshape to a 4x? matrix\n",
    "reshaped = tensor.view(4, -1)\n",
    "print('Reshaped 4x? tensor:', reshaped.shape, '\\n', reshaped) # 4x3, where 3 is automatically calculated\n",
    "\n",
    "# Reshape to ?x2 matrix\n",
    "reshaped = torch.reshape(reshaped, (-1, 2))\n",
    "print('Reshaped ?x2 tensor:', reshaped.shape, '\\n', reshaped) # 6x2"
   ]
  },
  {
   "cell_type": "markdown",
   "metadata": {
    "id": "BUPUVBqttGz9"
   },
   "source": [
    "- Aggregations: [`torch.sum`](https://pytorch.org/docs/stable/generated/torch.sum.html), [`torch.mean`](https://pytorch.org/docs/stable/generated/torch.mean.html), [`torch.max`](https://pytorch.org/docs/main/generated/torch.max.html), etc."
   ]
  },
  {
   "cell_type": "code",
   "execution_count": null,
   "metadata": {
    "colab": {
     "base_uri": "https://localhost:8080/"
    },
    "executionInfo": {
     "elapsed": 101,
     "status": "ok",
     "timestamp": 1736876541222,
     "user": {
      "displayName": "Everley Tseng",
      "userId": "10143981273771583914"
     },
     "user_tz": 420
    },
    "id": "ff2eXisktPi4",
    "outputId": "5051c345-55a8-4a0c-ccd8-07e7e3174ab5"
   },
   "outputs": [
    {
     "name": "stdout",
     "output_type": "stream",
     "text": [
      "Sum: tensor(21.)\n",
      "Mean: tensor([2.5000, 3.5000, 4.5000])\n",
      "Max value:  tensor([3., 6.]) , index: tensor([2, 2])\n"
     ]
    }
   ],
   "source": [
    "tensor = torch.tensor([[1.0, 2.0, 3.0], [4.0, 5.0, 6.0]])\n",
    "\n",
    "print(\"Sum:\", tensor.sum())\n",
    "print(\"Mean:\", tensor.mean(dim=0))\n",
    "print(\"Max value: \", tensor.max(dim=1).values, ', index:', tensor.max(dim=1).indices)"
   ]
  },
  {
   "cell_type": "markdown",
   "metadata": {
    "id": "-LzTDvR2uCHY"
   },
   "source": [
    "### Common Ways to Use Tensors"
   ]
  },
  {
   "cell_type": "markdown",
   "metadata": {
    "id": "-ilK29QIu_7V"
   },
   "source": [
    "#### Model Layer\n",
    "\n",
    "One common use of tensors is for building layers in a model. Let's practice using a **linear layer** with tensors and the operators we learned.\n",
    "\n",
    "Function: $y = xW + bias$"
   ]
  },
  {
   "cell_type": "code",
   "execution_count": null,
   "metadata": {
    "colab": {
     "base_uri": "https://localhost:8080/"
    },
    "executionInfo": {
     "elapsed": 58,
     "status": "ok",
     "timestamp": 1736982816003,
     "user": {
      "displayName": "Everley Tseng",
      "userId": "10143981273771583914"
     },
     "user_tz": 420
    },
    "id": "phrRbOESvHh5",
    "outputId": "647f8660-c2d1-4112-e680-ba3bb101dda8"
   },
   "outputs": [
    {
     "name": "stdout",
     "output_type": "stream",
     "text": [
      "Output:\n",
      " tensor([[ 4.5000,  5.5000],\n",
      "        [ 8.5000, 11.5000]])\n"
     ]
    }
   ],
   "source": [
    "# Input data\n",
    "x = torch.tensor([[1.0, 2.0], [3.0, 4.0]])\n",
    "\n",
    "# Weights and biases\n",
    "weights = torch.tensor([[0.5, 1.0], [1.5, 2.0]])\n",
    "bias = torch.tensor([1.0, 0.5])\n",
    "\n",
    "# Linear transformation: y = xW + b\n",
    "y = torch.matmul(x, weights) + bias\n",
    "print('Output:\\n', y)"
   ]
  },
  {
   "cell_type": "markdown",
   "metadata": {
    "id": "3jPS93T2Skt_"
   },
   "source": [
    "#### Dataset\n",
    "\n",
    "\n"
   ]
  },
  {
   "cell_type": "markdown",
   "metadata": {
    "id": "6Lx8Z9Yop2Sq"
   },
   "source": [
    "Let's design a **binary classification dataset**\n",
    "- `x`: Every data has 3 features $(X_1, X_2, X_3)$. Generate 10 samples.\n"
   ]
  },
  {
   "cell_type": "code",
   "execution_count": null,
   "metadata": {
    "colab": {
     "base_uri": "https://localhost:8080/"
    },
    "executionInfo": {
     "elapsed": 59,
     "status": "ok",
     "timestamp": 1736982857119,
     "user": {
      "displayName": "Everley Tseng",
      "userId": "10143981273771583914"
     },
     "user_tz": 420
    },
    "id": "exycvARdmiVe",
    "outputId": "b897652c-803c-40db-d050-3d1575bd0e78"
   },
   "outputs": [
    {
     "name": "stdout",
     "output_type": "stream",
     "text": [
      "x shape: torch.Size([10, 3]), first sample: tensor([[0.8562, 0.2390, 0.4661]])\n"
     ]
    }
   ],
   "source": [
    "num_samples = 10\n",
    "num_features = 3\n",
    "\n",
    "x_train = torch.rand(num_samples, num_features) # Generate random x samples\n",
    "\n",
    "# See the first sample\n",
    "print('x shape: {}, first sample: {}'.format(x_train.shape, x_train[:1]))"
   ]
  },
  {
   "cell_type": "markdown",
   "metadata": {
    "id": "tGRDsM1YtVr3"
   },
   "source": [
    "### PyTorch Built-ins"
   ]
  },
  {
   "cell_type": "markdown",
   "metadata": {
    "id": "pv801MNd58Wi"
   },
   "source": [
    "While it is essential to learn how to operate the tensors, we should note that the `torch` library has many built-in modules for us to utilize. Calling the built-in modules saves us coding time, but it is important to read the documentation carefully before using them. Below, we will first use some built-in layers to build a simple MLP model and then load a built-in dataset."
   ]
  },
  {
   "cell_type": "code",
   "execution_count": null,
   "metadata": {
    "id": "bB1wAVBSzLcv"
   },
   "outputs": [],
   "source": [
    "import torch.nn as nn"
   ]
  },
  {
   "cell_type": "markdown",
   "metadata": {
    "id": "Wtfe_CfAyV-3"
   },
   "source": [
    " #### Layers\n",
    "\n",
    "- [`nn.Linear`](https://pytorch.org/docs/stable/generated/torch.nn.Linear.html): a linear layer (with random initialization)\n",
    "\n",
    "Note that this `nn.Linear` resembles the operation we implemented earlier. However, the built-in function initializes the parameters (e.g., weights and biases) randomly and their default mode is `requires_grad=True`."
   ]
  },
  {
   "cell_type": "code",
   "execution_count": null,
   "metadata": {
    "colab": {
     "base_uri": "https://localhost:8080/"
    },
    "executionInfo": {
     "elapsed": 436,
     "status": "ok",
     "timestamp": 1736982928983,
     "user": {
      "displayName": "Everley Tseng",
      "userId": "10143981273771583914"
     },
     "user_tz": 420
    },
    "id": "noIsI-asyVtO",
    "outputId": "86f69f8d-b260-4eed-ee96-edd40acfc745"
   },
   "outputs": [
    {
     "name": "stdout",
     "output_type": "stream",
     "text": [
      "Output:\n",
      " tensor([[ 3.0126, -0.2027],\n",
      "        [ 6.7889, -0.9472]], grad_fn=<AddmmBackward0>)\n",
      "Initial weights:\n",
      " Parameter containing:\n",
      "tensor([[ 0.4161,  0.3290,  0.5137],\n",
      "        [-0.1187,  0.0608, -0.1902]], requires_grad=True)\n",
      "Initial bias:\n",
      " Parameter containing:\n",
      "tensor([0.3975, 0.3651], requires_grad=True)\n"
     ]
    }
   ],
   "source": [
    "x = torch.tensor([[1.0, 2.0, 3.0],\n",
    "                  [4.0, 5.0, 6.0]])\n",
    "\n",
    "# Define a linear layer\n",
    "linear = nn.Linear(in_features=3, out_features=2)\n",
    "\n",
    "# Forward pass x into the layer\n",
    "output = linear(x)\n",
    "print('Output:\\n', output)\n",
    "\n",
    "# Display the weights and biases randomly initialized\n",
    "print('Initial weights:\\n', linear.weight)\n",
    "print('Initial bias:\\n', linear.bias)"
   ]
  },
  {
   "cell_type": "markdown",
   "metadata": {
    "id": "Ss4ijFKrxOyN"
   },
   "source": [
    "#### Model Structure\n",
    "\n",
    "To define the structure of your neural network, [`nn.Module`](https://pytorch.org/docs/stable/generated/torch.nn.Module.html#torch.nn.Module) is the base class for all neural network modules.\n",
    "\n",
    "Let's try to build a Multi-Layer Perceptron (MLP) model.\n"
   ]
  },
  {
   "cell_type": "code",
   "execution_count": null,
   "metadata": {
    "id": "YOqL2wGGoJV_"
   },
   "outputs": [],
   "source": [
    "class MultiLayerPerceptron(nn.Module):\n",
    "  def __init__(self, input_size, output_size):\n",
    "    super(MultiLayerPerceptron, self).__init__()\n",
    "    self.input_size = input_size\n",
    "    self.output_size = output_size\n",
    "\n",
    "    # Define all layers in the model\n",
    "    self.linear1 = nn.Linear(self.input_size, 10)\n",
    "    self.activation1 = nn.ReLU()\n",
    "    self.linear2 = nn.Linear(10, self.output_size)\n",
    "    self.activation2 = nn.Sigmoid()\n",
    "\n",
    "  def forward(self, x):\n",
    "    # Build the feed forward structure\n",
    "    linear1 = self.linear1(x)\n",
    "    act1 = self.activation1(linear1)\n",
    "    linear2 = self.linear2(act1)\n",
    "    output = self.activation2(linear2)\n",
    "    return output"
   ]
  },
  {
   "cell_type": "markdown",
   "metadata": {
    "id": "EjlSWarM07Uk"
   },
   "source": [
    "Now, let's pass data into the model:"
   ]
  },
  {
   "cell_type": "code",
   "execution_count": null,
   "metadata": {
    "colab": {
     "base_uri": "https://localhost:8080/"
    },
    "executionInfo": {
     "elapsed": 272,
     "status": "ok",
     "timestamp": 1736979624430,
     "user": {
      "displayName": "Everley Tseng",
      "userId": "10143981273771583914"
     },
     "user_tz": 420
    },
    "id": "tRcmunw305-3",
    "outputId": "38205767-589a-4401-9817-19e790e0bb51"
   },
   "outputs": [
    {
     "name": "stdout",
     "output_type": "stream",
     "text": [
      "Model output of passing one data:\n",
      " tensor([[0.4530]], grad_fn=<SigmoidBackward0>)\n",
      "Model output of passing 10 samples (in x_train):\n",
      " tensor([[0.4530],\n",
      "        [0.4523],\n",
      "        [0.4408],\n",
      "        [0.4493],\n",
      "        [0.4364],\n",
      "        [0.4365],\n",
      "        [0.4406],\n",
      "        [0.4474],\n",
      "        [0.4377],\n",
      "        [0.4443]], grad_fn=<SigmoidBackward0>)\n"
     ]
    }
   ],
   "source": [
    "model = MultiLayerPerceptron(input_size=num_features, output_size=1)\n",
    "\n",
    "# pass the first data in x_train to the model\n",
    "output_values = model(x_train[:1])\n",
    "print('Model output of passing one data:\\n', output_values)\n",
    "\n",
    "# pass the all data in x_train to the model\n",
    "output_values = model(x_train)\n",
    "print('Model output of passing 10 samples (in x_train):\\n', output_values)"
   ]
  },
  {
   "cell_type": "markdown",
   "metadata": {
    "id": "-JEs2kDJ2ouS"
   },
   "source": [
    "#### Loading a Dataset"
   ]
  },
  {
   "cell_type": "markdown",
   "metadata": {
    "id": "apHKJHd32z0G"
   },
   "source": [
    "\n",
    "Let's now review how to load one of PyTorch's built-in datasets, [MNIST](https://pytorch.org/vision/0.20/generated/torchvision.datasets.MNIST.html):\n",
    "1. Load the dataset\n",
    "2. Transform the dataset into tensor format\n",
    "3. Read one sample and print the tensor shape\n"
   ]
  },
  {
   "cell_type": "code",
   "execution_count": null,
   "metadata": {
    "colab": {
     "base_uri": "https://localhost:8080/"
    },
    "executionInfo": {
     "elapsed": 783,
     "status": "ok",
     "timestamp": 1736889235856,
     "user": {
      "displayName": "Everley Tseng",
      "userId": "10143981273771583914"
     },
     "user_tz": 420
    },
    "id": "0hx_8P5Z299o",
    "outputId": "d3835323-d3d9-4763-f323-f485b27a8759"
   },
   "outputs": [
    {
     "name": "stdout",
     "output_type": "stream",
     "text": [
      "Total data size: 60000\n",
      "Sample image shape: torch.Size([1, 28, 28])\n",
      "Sample label: 5\n"
     ]
    }
   ],
   "source": [
    "from torchvision import datasets, transforms\n",
    "\n",
    "transform = transforms.Compose([transforms.ToTensor()])\n",
    "\n",
    "mnist_dataset = datasets.MNIST(root='./data', transform=transform, download=True)\n",
    "print('Total data size:', len(mnist_dataset))\n",
    "\n",
    "# Print the first sample\n",
    "sample_image, sample_label = mnist_dataset[0]\n",
    "print('Sample image shape:', sample_image.shape)\n",
    "print('Sample label:', sample_label)"
   ]
  },
  {
   "cell_type": "markdown",
   "metadata": {
    "id": "DGQHhokLj-ub"
   },
   "source": [
    "## Review"
   ]
  },
  {
   "cell_type": "markdown",
   "metadata": {
    "id": "RayvPqV9kBqa"
   },
   "source": [
    "In the next tutorial, we will teach you how to build and train a model using all the built-in modules we talked about in this tutorial. Before then, we encourage you to practice tensor operations **without** the built-in modules.\n",
    "\n",
    "You can try the following practices:\n",
    "\n",
    "1. Create a 3x3 tensor filled with random values and compute the row-wise mean.\n",
    "2. Perform element-wise multiplication on two tensors of size 2x2.\n",
    "3. Create a 2D tensor, reshape it to a 3D tensor, and then flatten it back.\n"
   ]
  },
  {
   "cell_type": "markdown",
   "metadata": {
    "id": "OV7Mm7_xp0dl"
   },
   "source": [
    "For any questions and discussions regarding this tutorial, attend [TA office hours](https://docs.google.com/spreadsheets/d/1fzfTJpEF7RaUYRA_NGa3DkiazdQXVj7QNBbp6DrEZ3I/edit?usp=sharing) or create a post on [Piazza](https://piazza.com/colorado/spring2025/csci5922/home) :) See you in the next tutorial!\n",
    "\n",
    "\\- Everley"
   ]
  },
  {
   "cell_type": "code",
   "execution_count": null,
   "metadata": {
    "id": "UB1EmirnxzzI"
   },
   "outputs": [],
   "source": []
  }
 ],
 "metadata": {
  "colab": {
   "provenance": []
  },
  "kernelspec": {
   "display_name": "nndl",
   "language": "python",
   "name": "python3"
  },
  "language_info": {
   "codemirror_mode": {
    "name": "ipython",
    "version": 3
   },
   "file_extension": ".py",
   "mimetype": "text/x-python",
   "name": "python",
   "nbconvert_exporter": "python",
   "pygments_lexer": "ipython3",
   "version": "3.10.16"
  }
 },
 "nbformat": 4,
 "nbformat_minor": 0
}
