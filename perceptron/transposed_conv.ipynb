{
 "cells": [
  {
   "cell_type": "code",
   "execution_count": 1,
   "metadata": {},
   "outputs": [],
   "source": [
    "import torch\n",
    "def trans_conv(X, K):\n",
    "    h, w = K.shape\n",
    "    Y = torch.zeros((X.shape[0] + h - 1, X.shape[1] + w - 1))\n",
    "    for i in range(X.shape[0]):\n",
    "        for j in range(X.shape[1]):\n",
    "            Y[i: i + h, j: j + w] += X[i, j] * K\n",
    "    return Y"
   ]
  },
  {
   "cell_type": "code",
   "execution_count": 2,
   "metadata": {},
   "outputs": [
    {
     "data": {
      "text/plain": [
       "tensor([[ 2., -2.,  1.,  0.,  0., -1.],\n",
       "        [ 0.,  3., -1.,  2., -3.,  2.],\n",
       "        [ 0.,  0.,  1.,  0.,  2.,  0.],\n",
       "        [ 1., -1., -1.,  4.,  0.,  1.],\n",
       "        [-2.,  3.,  0.,  0., -1.,  1.],\n",
       "        [ 1.,  0.,  0.,  0.,  1., -1.]])"
      ]
     },
     "execution_count": 2,
     "metadata": {},
     "output_type": "execute_result"
    }
   ],
   "source": [
    "\n",
    "X = torch.tensor([[2, 0, -1, -1],[0, 1, 0, 2],[-2, 0, 1, 1,],[1, 1, 0, -1]])\n",
    "K = torch.tensor([[1, -1, 1],[0, 1, 0],[1, -1, 1]]\n",
    ")\n",
    "trans_conv(X, K)\n"
   ]
  }
 ],
 "metadata": {
  "kernelspec": {
   "display_name": "booksage",
   "language": "python",
   "name": "python3"
  },
  "language_info": {
   "codemirror_mode": {
    "name": "ipython",
    "version": 3
   },
   "file_extension": ".py",
   "mimetype": "text/x-python",
   "name": "python",
   "nbconvert_exporter": "python",
   "pygments_lexer": "ipython3",
   "version": "3.11.5"
  }
 },
 "nbformat": 4,
 "nbformat_minor": 2
}
